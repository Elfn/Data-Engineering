{
 "cells": [
  {
   "cell_type": "code",
   "execution_count": 844,
   "id": "2d232394-5255-47e8-8a35-c391cba82a02",
   "metadata": {},
   "outputs": [],
   "source": [
    "#----------------------------------------------------STAGING/EXTRACTION------------------------------------------"
   ]
  },
  {
   "cell_type": "code",
   "execution_count": 1390,
   "id": "75608f36-dccd-4eec-93fc-7d2824c2583f",
   "metadata": {},
   "outputs": [
    {
     "name": "stdout",
     "output_type": "stream",
     "text": [
      "+----+-----+-------+-----------+----------+--------------------+-----------------+-----------------+-----------+----------+-----------+--------------+--------------+-------+--------+----+--------+------------+-------------+-------------+----------+\n",
      "|  id|  nom| prenom|       sexe| birthdate|               email|        telephone|pays_de_residence|nationalite|universite|     campus|annee_en_cours|date_admission|diplome|activite|ects|   etude|type_contrat|debut_contrat|duree_contrat|entreprise|\n",
      "+----+-----+-------+-----------+----------+--------------------+-----------------+-----------------+-----------+----------+-----------+--------------+--------------+-------+--------+----+--------+------------+-------------+-------------+----------+\n",
      "|null| null|   null|       null|      null|                null|             null|             null|       null|      null|       null|          null|          null|   null|    null|null|    null|        null|         null|         null|      null|\n",
      "|   1|Wilie|Budgett|Genderqueer|11/22/2000|wbudgett0@guardia...|+380 564 767 6866|          MAURICE|    Ukraine|     ISIMA|CLERMONT-FD|             2|    14/11/2019|   VRAI|     BDS|  14|en cours|       Stage|    2/24/2019|           22|    SOGETI|\n",
      "+----+-----+-------+-----------+----------+--------------------+-----------------+-----------------+-----------+----------+-----------+--------------+--------------+-------+--------+----+--------+------------+-------------+-------------+----------+\n",
      "only showing top 2 rows\n",
      "\n"
     ]
    }
   ],
   "source": [
    "import findspark\n",
    "findspark.init()\n",
    "\n",
    "import pyspark\n",
    "from pyspark.sql import SparkSession\n",
    "from pyspark.sql.types import *\n",
    "from pyspark.sql.functions import *\n",
    "from datetime import datetime\n",
    "\n",
    "\n",
    "#Configure spark session\n",
    "spark = SparkSession.builder.master('local[2]').appName('etl_app').config('spark.jars.packages', 'org.mongodb.spark:mongo-spark-connector_2.12:2.4.1').getOrCreate()\n",
    "\n",
    "# Extract the dataset \"studentdatabase.json\" and add it to dataframe\n",
    "df_load = spark.read.csv(r\"/Users/Elimane/SPARK/data/5_DATA_dataset.csv\", header=True)\n",
    "df_load.show(2)"
   ]
  },
  {
   "cell_type": "code",
   "execution_count": 1391,
   "id": "06795684-1fd5-48a8-9acc-9ad6793a7930",
   "metadata": {},
   "outputs": [],
   "source": [
    "#----------------------------------------------------CLEANSING/TRANSFORMATION------------------------------------------"
   ]
  },
  {
   "cell_type": "code",
   "execution_count": 1392,
   "id": "9ddac759-8e33-46d0-aa1b-c5cf2f1fc160",
   "metadata": {},
   "outputs": [
    {
     "name": "stdout",
     "output_type": "stream",
     "text": [
      "+---+------+-------+-----------+----------+--------------------+-----------------+-----------------+-----------+----------+-----------+--------------+--------------+-------+--------+----+--------+------------+-------------+-------------+----------+\n",
      "| id|   nom| prenom|       sexe| birthdate|               email|        telephone|pays_de_residence|nationalite|universite|     campus|annee_en_cours|date_admission|diplome|activite|ects|   etude|type_contrat|debut_contrat|duree_contrat|entreprise|\n",
      "+---+------+-------+-----------+----------+--------------------+-----------------+-----------------+-----------+----------+-----------+--------------+--------------+-------+--------+----+--------+------------+-------------+-------------+----------+\n",
      "|  1| Wilie|Budgett|Genderqueer|11/22/2000|wbudgett0@guardia...|+380 564 767 6866|          MAURICE|    Ukraine|     ISIMA|CLERMONT-FD|             2|    14/11/2019|   VRAI|     BDS|  14|en cours|       Stage|    2/24/2019|           22|    SOGETI|\n",
      "|  2|Orelie|Andover|   Bigender|  2/9/2002| oandover1@intel.com|  +7 441 979 1756|           ITALIE| Kazakhstan|     ISIMA|       LYON|             3|     30/9/2020|   FAUX|     BDS|   2|   stope| Contrat Pro|    10/8/2015|           24|       CGI|\n",
      "+---+------+-------+-----------+----------+--------------------+-----------------+-----------------+-----------+----------+-----------+--------------+--------------+-------+--------+----+--------+------------+-------------+-------------+----------+\n",
      "only showing top 2 rows\n",
      "\n"
     ]
    }
   ],
   "source": [
    "# Remove null values\n",
    "df_load = df_load.dropna()\n",
    "df_load.show(2)"
   ]
  },
  {
   "cell_type": "code",
   "execution_count": 1393,
   "id": "886f91ea-96c5-42c8-9dc0-e9eeab247ecc",
   "metadata": {},
   "outputs": [
    {
     "name": "stdout",
     "output_type": "stream",
     "text": [
      "root\n",
      " |-- id: string (nullable = true)\n",
      " |-- nom: string (nullable = true)\n",
      " |-- prenom: string (nullable = true)\n",
      " |-- sexe: string (nullable = true)\n",
      " |-- birthdate: string (nullable = true)\n",
      " |-- email: string (nullable = true)\n",
      " |-- telephone: string (nullable = true)\n",
      " |-- pays_de_residence: string (nullable = true)\n",
      " |-- nationalite: string (nullable = true)\n",
      " |-- universite: string (nullable = true)\n",
      " |-- campus: string (nullable = true)\n",
      " |-- annee_en_cours: string (nullable = true)\n",
      " |-- date_admission: string (nullable = true)\n",
      " |-- diplome: string (nullable = true)\n",
      " |-- activite: string (nullable = true)\n",
      " |-- ects: string (nullable = true)\n",
      " |-- etude: string (nullable = true)\n",
      " |-- type_contrat: string (nullable = true)\n",
      " |-- debut_contrat: string (nullable = true)\n",
      " |-- duree_contrat: string (nullable = true)\n",
      " |-- entreprise: string (nullable = true)\n",
      "\n"
     ]
    }
   ],
   "source": [
    "# Print schema\n",
    "df_load.printSchema()"
   ]
  },
  {
   "cell_type": "code",
   "execution_count": 1394,
   "id": "c9c8f0c5-c67e-4570-b0a8-e120a2d5912c",
   "metadata": {},
   "outputs": [
    {
     "name": "stdout",
     "output_type": "stream",
     "text": [
      "root\n",
      " |-- nom: string (nullable = true)\n",
      " |-- prenom: string (nullable = true)\n",
      " |-- sexe: string (nullable = true)\n",
      " |-- birthdate: string (nullable = true)\n",
      " |-- pays_de_residence: string (nullable = true)\n",
      " |-- nationalite: string (nullable = true)\n",
      " |-- universite: string (nullable = true)\n",
      " |-- campus: string (nullable = true)\n",
      " |-- annee_en_cours: string (nullable = true)\n",
      " |-- date_admission: string (nullable = true)\n",
      " |-- diplome: string (nullable = true)\n",
      " |-- activite: string (nullable = true)\n",
      " |-- ects: string (nullable = true)\n",
      " |-- etude: string (nullable = true)\n",
      " |-- type_contrat: string (nullable = true)\n",
      " |-- debut_contrat: string (nullable = true)\n",
      " |-- duree_contrat: string (nullable = true)\n",
      " |-- entreprise: string (nullable = true)\n",
      "\n",
      "+--------+-----------+-----------+----------+-----------------+-----------+----------+-----------+--------------+--------------+-------+--------+----+--------+------------+-------------+-------------+----------+\n",
      "|     nom|     prenom|       sexe| birthdate|pays_de_residence|nationalite|universite|     campus|annee_en_cours|date_admission|diplome|activite|ects|   etude|type_contrat|debut_contrat|duree_contrat|entreprise|\n",
      "+--------+-----------+-----------+----------+-----------------+-----------+----------+-----------+--------------+--------------+-------+--------+----+--------+------------+-------------+-------------+----------+\n",
      "|   Wilie|    Budgett|Genderqueer|22/11/2000|          MAURICE|    Ukraine|     ISIMA|CLERMONT-FD|             2|    14/11/2019|   VRAI|     BDS|  14|en cours|       Stage|   24/02/2019|           22|    SOGETI|\n",
      "|  Orelie|    Andover|   Bigender|09/02/2002|           ITALIE| Kazakhstan|     ISIMA|       LYON|             3|    30/09/2020|   FAUX|     BDS|   2|   stope| Contrat Pro|   08/10/2015|           24|       CGI|\n",
      "|   Rurik|   Prodrick|     Female|05/05/1996|           SUISSE|   Djibouti|   EPYTECH|       CAEN|             1|    31/05/2020|   FAUX|     BDE| 175|en cours| Contrat Pro|   13/09/2019|            5|    HUAWEI|\n",
      "| Hermann|Littlefield|     Female|19/02/1993|            MAROC|      China|  POLYTECH|      LILLE|             3|    08/07/2015|   FAUX|     BDS| 160|   stope|       Stage|   02/06/2014|           13|       MRC|\n",
      "| Laraine|   Trigwell|    Agender|07/01/1996|           SUISSE|   Portugal|       101|      QUAND|             3|    28/02/2017|   VRAI|     SPR| 195|en cours| Contrat Pro|   18/06/2016|           21|    ORACLE|\n",
      "|Katheryn|    Moreinu| Non-binary|15/05/1993|           SUISSE|      China|     ISIMA|CLERMONT-FD|             1|    28/10/2018|   FAUX|     SPR| 172|en cours| Contrat Pro|   18/01/2010|           21|   ABYSTER|\n",
      "+--------+-----------+-----------+----------+-----------------+-----------+----------+-----------+--------------+--------------+-------+--------+----+--------+------------+-------------+-------------+----------+\n",
      "only showing top 6 rows\n",
      "\n"
     ]
    }
   ],
   "source": [
    "# Convert some string fields into Date\n",
    "df_load = df_load['nom','prenom','sexe','birthdate','pays_de_residence','nationalite','universite','campus','annee_en_cours','date_admission','diplome','activite','ects','etude','type_contrat','debut_contrat','duree_contrat','entreprise']\n",
    "df_load = df_load.withColumn('birthdate',date_format(to_date(col(\"birthdate\"), \"M/d/y\"),\"dd/MM/y\")).withColumn('date_admission',date_format(to_date(col(\"date_admission\"), \"d/M/y\"),\"dd/MM/y\")).withColumn('debut_contrat',date_format(to_date(col(\"debut_contrat\"), \"M/d/y\"),\"dd/MM/y\"))\n",
    "df_load.printSchema()\n",
    "df_load.show(6)"
   ]
  },
  {
   "cell_type": "code",
   "execution_count": 1395,
   "id": "73c8cea9-ae7d-41e8-baf1-00d10ff0a589",
   "metadata": {},
   "outputs": [
    {
     "name": "stdout",
     "output_type": "stream",
     "text": [
      "+-------+-----------+-----------+----------+-----------------+-----------+----------+-----------+--------------+--------------+-------+--------+-----+--------+------------+-------------+-------------+----------+\n",
      "|    nom|     prenom|       sexe| birthdate|pays_de_residence|nationalite|universite|     campus|annee_en_cours|date_admission|diplome|activite| ects|   etude|type_contrat|debut_contrat|duree_contrat|entreprise|\n",
      "+-------+-----------+-----------+----------+-----------------+-----------+----------+-----------+--------------+--------------+-------+--------+-----+--------+------------+-------------+-------------+----------+\n",
      "|  Wilie|    Budgett|Genderqueer|22/11/2000|          MAURICE|    Ukraine|     ISIMA|CLERMONT-FD|           2.0|    14/11/2019|   VRAI|     BDS| 14.0|en cours|       Stage|   24/02/2019|         22.0|    SOGETI|\n",
      "| Orelie|    Andover|   Bigender|09/02/2002|           ITALIE| Kazakhstan|     ISIMA|       LYON|           3.0|    30/09/2020|   FAUX|     BDS|  2.0|   stope| Contrat Pro|   08/10/2015|         24.0|       CGI|\n",
      "|  Rurik|   Prodrick|     Female|05/05/1996|           SUISSE|   Djibouti|   EPYTECH|       CAEN|           1.0|    31/05/2020|   FAUX|     BDE|175.0|en cours| Contrat Pro|   13/09/2019|          5.0|    HUAWEI|\n",
      "|Hermann|Littlefield|     Female|19/02/1993|            MAROC|      China|  POLYTECH|      LILLE|           3.0|    08/07/2015|   FAUX|     BDS|160.0|   stope|       Stage|   02/06/2014|         13.0|       MRC|\n",
      "|Laraine|   Trigwell|    Agender|07/01/1996|           SUISSE|   Portugal|       101|      QUAND|           3.0|    28/02/2017|   VRAI|     SPR|195.0|en cours| Contrat Pro|   18/06/2016|         21.0|    ORACLE|\n",
      "+-------+-----------+-----------+----------+-----------------+-----------+----------+-----------+--------------+--------------+-------+--------+-----+--------+------------+-------------+-------------+----------+\n",
      "only showing top 5 rows\n",
      "\n"
     ]
    }
   ],
   "source": [
    "# Convert some string fields into numeric(Double)\n",
    "df_load = df_load.withColumn('ects', df_load['ects'].cast(DoubleType()))\\\n",
    "    .withColumn('duree_contrat', df_load['duree_contrat'].cast(DoubleType()))\\\n",
    "    .withColumn('annee_en_cours', df_load['annee_en_cours'].cast(DoubleType()))\n",
    "\n",
    "\n",
    "# Print schema\n",
    "df_load.show(5)"
   ]
  },
  {
   "cell_type": "code",
   "execution_count": 1396,
   "id": "f44aebff-02ff-4483-b36e-a0f343317a5d",
   "metadata": {},
   "outputs": [
    {
     "name": "stdout",
     "output_type": "stream",
     "text": [
      "+---------+--------+----------+-----+-------+--------------------+-------------+-------+------+--------+--------------+----------+\n",
      "|      nom|  prenom| birthdate| ects|diplome|        type_contrat|duree_contrat|  etude|campus|activite|    entreprise|universite|\n",
      "+---------+--------+----------+-----+-------+--------------------+-------------+-------+------+--------+--------------+----------+\n",
      "|      Nap| Satford|28/11/2000|320.0|   VRAI|               Stage|          4.0|termine|  CAEN|     SPR|AFRIK-SOLUTION|  POLYTECH|\n",
      "|Cleveland|   Matis|16/06/1999|300.0|   VRAI|Contrat d'apprent...|          3.0|  stope| PARIS|     BDE|     CAPGEMINI|  POLYTECH|\n",
      "|  Carmine|Spellard|11/11/1993|300.0|   VRAI|         Contrat Pro|          2.0|  stope| LILLE|     BDS|      MICHELIN|        42|\n",
      "+---------+--------+----------+-----+-------+--------------------+-------------+-------+------+--------+--------------+----------+\n",
      "\n"
     ]
    }
   ],
   "source": [
    "# 1-The most successful students, depending on the region / institution of origin\n",
    "students_tmp_df = df_load['nom','prenom','birthdate','ects','diplome','type_contrat','duree_contrat','etude','campus','activite','entreprise','universite']\n",
    "students_tmp_df = students_tmp_df.withColumn('diplome',when(col('ects') >= 300 , 'VRAI').otherwise('FAUX'))\n",
    "successful_df = students_tmp_df.filter((col('diplome') == 'VRAI'))\n",
    "successful_df.show()"
   ]
  },
  {
   "cell_type": "code",
   "execution_count": 1397,
   "id": "3b318fb2-00e9-4553-938e-7820de78814d",
   "metadata": {},
   "outputs": [
    {
     "name": "stdout",
     "output_type": "stream",
     "text": [
      "+--------+-----------+----------+-----+-------+--------------------+-------------+-----+--------+--------+--------------+----------+\n",
      "|     nom|     prenom| birthdate| ects|diplome|        type_contrat|duree_contrat|etude|  campus|activite|    entreprise|universite|\n",
      "+--------+-----------+----------+-----+-------+--------------------+-------------+-----+--------+--------+--------------+----------+\n",
      "|  Orelie|    Andover|09/02/2002|  2.0|   FAUX|         Contrat Pro|         24.0| stop|    LYON|     BDS|           CGI|     ISIMA|\n",
      "| Hermann|Littlefield|19/02/1993|160.0|   FAUX|               Stage|         13.0| stop|   LILLE|     BDS|           MRC|  POLYTECH|\n",
      "|  Elwood|    Pettman|26/04/1997| 24.0|   FAUX|               Stage|          6.0| stop|   LILLE|     BDE|     SOFTTEAMS|  POLYTECH|\n",
      "|     Zia|    Cockton|17/08/1999| 15.0|   FAUX|         Contrat Pro|          3.0| stop|CLERMONT|     BDS|           MRC|     ISIMA|\n",
      "|    Milo|     Marien|15/12/1997|201.0|   FAUX|Contrat d'apprent...|          9.0| stop|CLERMONT|     BDE|AFRIK-SOLUTION|       101|\n",
      "|Mariette|     Catton|11/05/1997|104.0|   FAUX|Contrat d'apprent...|         17.0| stop|   LILLE|     BDS|        CAMTEL|        42|\n",
      "+--------+-----------+----------+-----+-------+--------------------+-------------+-----+--------+--------+--------------+----------+\n",
      "only showing top 6 rows\n",
      "\n"
     ]
    }
   ],
   "source": [
    "# 2-the students who stop their studies\n",
    "students_tmp_df = students_tmp_df.withColumn('etude',when(col('etude') == 'stope' , 'stop').otherwise(col('etude')))\n",
    "students_tmp_df = students_tmp_df.withColumn('campus',when(col('campus') == 'CLERMONT-FD' , 'CLERMONT').when(col('campus') == 'QUAND' , 'CAEN')\\\n",
    "                       .when(col('campus') == 'Clermon' , 'CLERMONT')\\\n",
    "                       .when(col('campus') == 'CLF' , 'CLERMONT')\\\n",
    "                       .when(col('campus') == 'cancan' , 'CAEN')\\\n",
    "                       .when(col('campus') == 'can' , 'CAEN')\\\n",
    "                       .when(col('campus') == 'lion' , 'LYON')\\\n",
    "                       .otherwise(col('campus')))\n",
    "student_df = students_tmp_df\n",
    "\n",
    "student_stopped = students_tmp_df.filter((col('etude') == 'stop'))\n",
    "student_stopped.show(6)"
   ]
  },
  {
   "cell_type": "code",
   "execution_count": 1398,
   "id": "674c372a-64bf-4002-adac-983fa876b052",
   "metadata": {},
   "outputs": [
    {
     "name": "stdout",
     "output_type": "stream",
     "text": [
      "+----------+----------------+\n",
      "|    campus|nombre etudiants|\n",
      "+----------+----------------+\n",
      "|     LILLE|              72|\n",
      "|     PARIS|              67|\n",
      "|      LYON|              73|\n",
      "|MONTPELIER|              84|\n",
      "|      CAEN|              75|\n",
      "|  CLERMONT|              80|\n",
      "+----------+----------------+\n",
      "\n"
     ]
    }
   ],
   "source": [
    "# 3- Number of students by region\n",
    "nb_students_by_region = students_tmp_df.select('nom','prenom','campus').groupBy('campus').count().withColumnRenamed('count','nombre etudiants')\n",
    "nb_students_by_region.show()"
   ]
  },
  {
   "cell_type": "code",
   "execution_count": 1399,
   "id": "d5fbbf7a-9569-42de-abd8-39570b71f34f",
   "metadata": {},
   "outputs": [
    {
     "name": "stdout",
     "output_type": "stream",
     "text": [
      "+--------+----------------+\n",
      "|activite|nombre etudiants|\n",
      "+--------+----------------+\n",
      "|     SPR|             152|\n",
      "|     BDS|             156|\n",
      "|     BDE|             143|\n",
      "+--------+----------------+\n",
      "\n"
     ]
    }
   ],
   "source": [
    "# 4- Number of students by activity (To know how revitalize campuses)\n",
    "nb_students_by_activity = students_tmp_df.select('nom','prenom','activite').groupBy('activite').count().withColumnRenamed('count','nombre etudiants')\n",
    "nb_students_by_activity.show()"
   ]
  },
  {
   "cell_type": "code",
   "execution_count": 1400,
   "id": "59805414-8c49-403b-a30c-675e84beecab",
   "metadata": {},
   "outputs": [
    {
     "name": "stdout",
     "output_type": "stream",
     "text": [
      "+---------------------------+\n",
      "|Moyenne du temps de contrat|\n",
      "+---------------------------+\n",
      "|         12.403547671840355|\n",
      "+---------------------------+\n",
      "\n"
     ]
    }
   ],
   "source": [
    "# Average length of time graduates are hired\n",
    "avg_length_time_hired = students_tmp_df.select((sum('duree_contrat')/count('nom')).alias('Moyenne du temps de contrat'))\n",
    "avg_length_time_hired.show()"
   ]
  },
  {
   "cell_type": "code",
   "execution_count": 1401,
   "id": "266c5cb5-03e0-4048-a31a-079a365a5523",
   "metadata": {},
   "outputs": [],
   "source": [
    "nb_total_students = students_tmp_df.select(count('nom'))"
   ]
  },
  {
   "cell_type": "code",
   "execution_count": 1404,
   "id": "4f27f259-aa06-4e6f-8fb9-b6e84208f0c6",
   "metadata": {},
   "outputs": [
    {
     "name": "stdout",
     "output_type": "stream",
     "text": [
      "+----------------+----------------+\n",
      "|      entreprise|nombre etudiants|\n",
      "+----------------+----------------+\n",
      "|            OPEN|               3|\n",
      "|         ABYSTER|               3|\n",
      "|          ORACLE|               3|\n",
      "|            AKKA|               2|\n",
      "|             MRC|               2|\n",
      "|          ALTRAM|               2|\n",
      "|             IUC|               2|\n",
      "|       CDISCOUNT|               2|\n",
      "|          SAFRAM|               2|\n",
      "|            AXXA|               1|\n",
      "|       SOFTTEAMS|               1|\n",
      "|       CAPGEMINI|               1|\n",
      "|             CGI|               1|\n",
      "|ADVENCE CAMEROUN|               1|\n",
      "|          SHINKA|               1|\n",
      "|          SOGETI|               1|\n",
      "|        ALL4TEST|               1|\n",
      "|       AFROLOGIX|               1|\n",
      "|             ASI|               1|\n",
      "|        MICHELIN|               1|\n",
      "+----------------+----------------+\n",
      "only showing top 20 rows\n",
      "\n"
     ]
    }
   ],
   "source": [
    "# Number of students by companies for which recruit the most students from supinfo\n",
    "nb_students_by_enterprise = students_tmp_df.select('nom','prenom','entreprise','universite').filter(col('universite') == 'SUPINFO').groupBy('entreprise').count().withColumnRenamed('count','nombre etudiants')\n",
    "nb_students_by_enterprise = nb_students_by_enterprise.select(col('entreprise'),col('nombre etudiants')).orderBy(col('nombre etudiants').desc())\n",
    "\n",
    "nb_students_by_enterprise.show()"
   ]
  },
  {
   "cell_type": "code",
   "execution_count": 1405,
   "id": "455109f8-3be6-4586-9433-fdf0bb0214d9",
   "metadata": {},
   "outputs": [
    {
     "name": "stdout",
     "output_type": "stream",
     "text": [
      "+---------------+\n",
      "|     universite|\n",
      "+---------------+\n",
      "|            101|\n",
      "|             42|\n",
      "|            ESI|\n",
      "|        EPYTECH|\n",
      "|           INSA|\n",
      "|ECOLE DE LA VIE|\n",
      "|          MINES|\n",
      "|          ISIMA|\n",
      "| UNIVERSITY 365|\n",
      "|        EPITECH|\n",
      "|       POLYTECH|\n",
      "+---------------+\n",
      "\n"
     ]
    }
   ],
   "source": [
    "# SUPINFO's competitors who are poaching  students\n",
    "competitors_list = students_tmp_df.select('universite').filter(col('universite') != 'SUPINFO').dropDuplicates()\n",
    "competitors_list.show()"
   ]
  },
  {
   "cell_type": "code",
   "execution_count": 1406,
   "id": "8997516f-b99e-4039-820b-53696d034816",
   "metadata": {},
   "outputs": [
    {
     "name": "stdout",
     "output_type": "stream",
     "text": [
      "+----------+------------+-------------------+\n",
      "|    campus|type_contrat|nombre contrats pro|\n",
      "+----------+------------+-------------------+\n",
      "|      CAEN| Contrat Pro|                 27|\n",
      "|  CLERMONT| Contrat Pro|                 29|\n",
      "|MONTPELIER| Contrat Pro|                 21|\n",
      "|      LYON| Contrat Pro|                 20|\n",
      "|     LILLE| Contrat Pro|                 23|\n",
      "|     PARIS| Contrat Pro|                 25|\n",
      "+----------+------------+-------------------+\n",
      "\n"
     ]
    }
   ],
   "source": [
    "# regions which have more Pro contracts and why\n",
    "nb_contrat_pro_by_region = students_tmp_df.select('nom','prenom','campus','type_contrat').groupBy('campus','type_contrat').count().filter(col('type_contrat') == 'Contrat Pro').withColumnRenamed('count','nombre contrats pro')\n",
    "nb_contrat_pro_by_region.show()"
   ]
  },
  {
   "cell_type": "code",
   "execution_count": 1407,
   "id": "f8fce6ef-d7ec-42b2-8231-0f4c15fd80e4",
   "metadata": {},
   "outputs": [
    {
     "name": "stdout",
     "output_type": "stream",
     "text": [
      "+---------+-----------+----------+---+\n",
      "|      nom|     prenom| birthdate|age|\n",
      "+---------+-----------+----------+---+\n",
      "|    Wilie|    Budgett|22/11/2000| 22|\n",
      "|   Orelie|    Andover|09/02/2002| 20|\n",
      "|    Rurik|   Prodrick|05/05/1996| 26|\n",
      "|  Hermann|Littlefield|19/02/1993| 29|\n",
      "|  Laraine|   Trigwell|07/01/1996| 26|\n",
      "| Katheryn|    Moreinu|15/05/1993| 29|\n",
      "|    Spike|     Fearon|09/11/2000| 22|\n",
      "| Brantley|       Okie|03/09/1998| 24|\n",
      "|   Elwood|    Pettman|26/04/1997| 25|\n",
      "|      Zia|    Cockton|17/08/1999| 23|\n",
      "|     Milo|     Marien|15/12/1997| 25|\n",
      "| Mariette|     Catton|11/05/1997| 25|\n",
      "|Bridgette|  Whitehead|09/01/1998| 24|\n",
      "|  Stephen|          $|22/01/1994| 28|\n",
      "| Hernando|      Lortz|23/12/1997| 25|\n",
      "|   Cordey|  Muggleton|07/09/1993| 29|\n",
      "|Patrizius|       Garz|05/01/1998| 24|\n",
      "|    Ashly|  Rittmeyer|24/12/1999| 23|\n",
      "|   Jessee|     Willan|24/06/2000| 22|\n",
      "|  Yanaton|    Barnaby|24/05/2000| 22|\n",
      "+---------+-----------+----------+---+\n",
      "only showing top 20 rows\n",
      "\n"
     ]
    }
   ],
   "source": [
    "# Students age\n",
    "students_age = students_tmp_df.select('nom','prenom','birthdate').withColumn(\"age\",year(current_date()) - year(to_date(col('birthdate'),\"d/M/y\")))\n",
    "students_age.show()"
   ]
  },
  {
   "cell_type": "code",
   "execution_count": 1408,
   "id": "7a2b5fcb-ad9a-431e-9080-7fffd79652bb",
   "metadata": {},
   "outputs": [
    {
     "name": "stdout",
     "output_type": "stream",
     "text": [
      "+---------+---------+----------+----------+\n",
      "|      nom|   prenom|    campus|universite|\n",
      "+---------+---------+----------+----------+\n",
      "|    Welsh|   Gluyas|      CAEN|   SUPINFO|\n",
      "|      Wit|Dukesbury|MONTPELIER|   SUPINFO|\n",
      "|Frederica|   Eilert|MONTPELIER|   SUPINFO|\n",
      "|     Boyd|     Lush|MONTPELIER|   SUPINFO|\n",
      "|    Addie|  Gowlett|  CLERMONT|   SUPINFO|\n",
      "| Henrieta|  Aleksic|     PARIS|   SUPINFO|\n",
      "| Harmonie|   Celand|MONTPELIER|   SUPINFO|\n",
      "|Evangelia|  Kermitt|MONTPELIER|   SUPINFO|\n",
      "|    Ronna| Radbourn|MONTPELIER|   SUPINFO|\n",
      "|  Cherice|Englishby|     PARIS|   SUPINFO|\n",
      "|   Sydney|Glencross|MONTPELIER|   SUPINFO|\n",
      "|    Moyna|  Mucklow|     LILLE|   SUPINFO|\n",
      "| Christel| Taunton.|MONTPELIER|   SUPINFO|\n",
      "|      Gav|   Kilpin|      LYON|   SUPINFO|\n",
      "|     Susy| Landells|     LILLE|   SUPINFO|\n",
      "|     Iver|  Camblin|      CAEN|   SUPINFO|\n",
      "|  Charlot|  Harower|      CAEN|   SUPINFO|\n",
      "|    Artie| Harborow|      LYON|   SUPINFO|\n",
      "|  Kathlin|   Durgan|     PARIS|   SUPINFO|\n",
      "|   Alford| Trosdall|     LILLE|   SUPINFO|\n",
      "+---------+---------+----------+----------+\n",
      "only showing top 20 rows\n",
      "\n"
     ]
    }
   ],
   "source": [
    "# SUPINFO students\n",
    "students_of_SUPINFO = students_tmp_df.select('nom','prenom','campus','universite').where(col('universite') == 'SUPINFO').dropDuplicates()\n",
    "students_of_SUPINFO.show()"
   ]
  },
  {
   "cell_type": "code",
   "execution_count": 1409,
   "id": "8fcf4a1d-1c6e-4c2d-b104-2145690bb6ec",
   "metadata": {},
   "outputs": [
    {
     "name": "stdout",
     "output_type": "stream",
     "text": [
      "+----------+----------------+\n",
      "|    campus|nombre etudiants|\n",
      "+----------+----------------+\n",
      "|     LILLE|               5|\n",
      "|     PARIS|               7|\n",
      "|      LYON|               7|\n",
      "|MONTPELIER|              10|\n",
      "|      CAEN|               5|\n",
      "|  CLERMONT|               3|\n",
      "+----------+----------------+\n",
      "\n"
     ]
    }
   ],
   "source": [
    "# number of students by SUPINFO campuses\n",
    "nb_students_of_SUPINFO_by_campuses = students_of_SUPINFO.select('nom','prenom','campus').groupBy('campus').count().withColumnRenamed('count','nombre etudiants')\n",
    "nb_students_of_SUPINFO_by_campuses.show()"
   ]
  },
  {
   "cell_type": "code",
   "execution_count": 1410,
   "id": "ec7e8102-48a1-43ae-b19e-eb9e6fff9bd5",
   "metadata": {},
   "outputs": [
    {
     "name": "stdout",
     "output_type": "stream",
     "text": [
      "+----------------------+\n",
      "|total supinfo students|\n",
      "+----------------------+\n",
      "|                    37|\n",
      "+----------------------+\n",
      "\n"
     ]
    }
   ],
   "source": [
    "# Total number of SUPINFO's students\n",
    "total_supinfo_students = nb_students_of_SUPINFO_by_campuses.select(sum('nombre etudiants').alias('total supinfo students'))\n",
    "total_supinfo_students.show()"
   ]
  },
  {
   "cell_type": "code",
   "execution_count": 1411,
   "id": "e6e36fff-08e0-4816-8343-e1a7054d8c95",
   "metadata": {},
   "outputs": [
    {
     "name": "stdout",
     "output_type": "stream",
     "text": [
      "+----------+---------+---------+\n",
      "|    campus|longitude| latitude|\n",
      "+----------+---------+---------+\n",
      "|      CAEN|    -4.49|    49.18|\n",
      "|     LILLE| 3.057256| 50.62925|\n",
      "|      LYON| 4.834277| 45.76342|\n",
      "|     PARIS| 2.349014|48.864716|\n",
      "|MONTPELIER|   3.8772|  43.6119|\n",
      "|  CLERMONT|  45.7831|   3.0824|\n",
      "+----------+---------+---------+\n",
      "\n"
     ]
    }
   ],
   "source": [
    "# campus geographic coordinates\n",
    "students_tmp_df = students_tmp_df.select('campus')\\\n",
    "         \n",
    "campus_geo_location = students_tmp_df.select('campus')\\\n",
    "         .withColumn('longitude',when(col('campus') == 'CLERMONT' , 45.783100)\\\n",
    "                       .when(col('campus') == 'CAEN' , -4.490000)\\\n",
    "                       .when(col('campus') == 'LYON' , 4.834277)\\\n",
    "                       .when(col('campus') == 'MONTPELIER' , 3.877200)\\\n",
    "                       .when(col('campus') == 'LILLE' , 3.057256)\\\n",
    "                       .when(col('campus') == 'PARIS' , 2.349014)\\\n",
    "                       .otherwise(0)).withColumn('latitude',when(col('campus') == 'CLERMONT' , 3.082400)\\\n",
    "                       .when(col('campus') == 'CAEN' , 49.180000)\\\n",
    "                       .when(col('campus') == 'LYON' , 45.763420)\\\n",
    "                       .when(col('campus') == 'MONTPELIER' , 43.611900)\\\n",
    "                       .when(col('campus') == 'LILLE' , 50.629250)\\\n",
    "                       .when(col('campus') == 'PARIS' , 48.864716)\\\n",
    "                       .otherwise(0)).dropDuplicates()\n",
    "                     \n",
    "\n",
    "\n",
    "campus_geo_location.show()"
   ]
  },
  {
   "cell_type": "code",
   "execution_count": 1412,
   "id": "08554ccd-fd5c-4ef6-9187-2df6e155602b",
   "metadata": {},
   "outputs": [],
   "source": [
    "#----------------------------------------------------STORING/LOADING------------------------------------------\n",
    "# Build the tables or collections\n",
    "# Write dataframes to mongodb"
   ]
  },
  {
   "cell_type": "code",
   "execution_count": 1413,
   "id": "b7c6d2eb-9b2b-4b2b-a0fd-8b358249b314",
   "metadata": {},
   "outputs": [],
   "source": [
    "\n",
    "nb_contrat_pro_by_region.write.format('mongo').mode('overwrite').option('spark.mongodb.output.uri', 'mongodb://127.0.0.1:27017/studentsdb.nb_contrat_pro_by_region').save()\n",
    "\n"
   ]
  },
  {
   "cell_type": "code",
   "execution_count": 1414,
   "id": "012b5277-8a40-4704-acf5-0991676674f4",
   "metadata": {},
   "outputs": [],
   "source": [
    "competitors_list.write.format('mongo').mode('overwrite').option('spark.mongodb.output.uri', 'mongodb://127.0.0.1:27017/studentsdb.competitors_list').save()\n"
   ]
  },
  {
   "cell_type": "code",
   "execution_count": 1415,
   "id": "321c15ea-1e40-4610-8edb-16bb6228d131",
   "metadata": {},
   "outputs": [],
   "source": [
    "nb_students_by_enterprise.write.format('mongo').mode('overwrite').option('spark.mongodb.output.uri', 'mongodb://127.0.0.1:27017/studentsdb.nb_students_by_enterprise').save()\n"
   ]
  },
  {
   "cell_type": "code",
   "execution_count": 1416,
   "id": "ebdb1076-661e-49e3-853b-e2793e8bd2c1",
   "metadata": {},
   "outputs": [],
   "source": [
    "\n",
    "nb_total_students.write.format('mongo').mode('overwrite').option('spark.mongodb.output.uri', 'mongodb://127.0.0.1:27017/studentsdb.nb_total_students').save()\n"
   ]
  },
  {
   "cell_type": "code",
   "execution_count": 1417,
   "id": "bc49e6b6-b4dc-40c7-b681-6c127e19eed7",
   "metadata": {},
   "outputs": [],
   "source": [
    "\n",
    "avg_length_time_hired.write.format('mongo').mode('overwrite').option('spark.mongodb.output.uri', 'mongodb://127.0.0.1:27017/studentsdb.avg_length_time_hired').save()"
   ]
  },
  {
   "cell_type": "code",
   "execution_count": 1418,
   "id": "b88560a4-1c6c-41f5-9e3d-2711506a4daf",
   "metadata": {},
   "outputs": [],
   "source": [
    "nb_students_by_activity.write.format('mongo').mode('overwrite').option('spark.mongodb.output.uri', 'mongodb://127.0.0.1:27017/studentsdb.nb_students_by_activity').save()\n"
   ]
  },
  {
   "cell_type": "code",
   "execution_count": 1419,
   "id": "935459c1-a63e-4095-9f3e-9e9ce6ac4886",
   "metadata": {},
   "outputs": [],
   "source": [
    "nb_students_by_region.write.format('mongo').mode('overwrite').option('spark.mongodb.output.uri', 'mongodb://127.0.0.1:27017/studentsdb.nb_students_by_region').save()\n"
   ]
  },
  {
   "cell_type": "code",
   "execution_count": 1420,
   "id": "8b740206-edf3-4768-b45e-b9868a0a57ba",
   "metadata": {},
   "outputs": [],
   "source": [
    "student_stopped.write.format('mongo').mode('overwrite').option('spark.mongodb.output.uri', 'mongodb://127.0.0.1:27017/studentsdb.nb_students_by_region').save()\n"
   ]
  },
  {
   "cell_type": "code",
   "execution_count": 1421,
   "id": "86a7c9e3-c64f-480f-9578-76326ad98c20",
   "metadata": {},
   "outputs": [],
   "source": [
    "successful_df.write.format('mongo').mode('overwrite').option('spark.mongodb.output.uri', 'mongodb://127.0.0.1:27017/studentsdb.successful_df').save()\n"
   ]
  },
  {
   "cell_type": "code",
   "execution_count": 1422,
   "id": "d0b64d20-3d11-4af2-a1bf-e43faa812297",
   "metadata": {},
   "outputs": [],
   "source": [
    "students_age.write.format('mongo').mode('overwrite').option('spark.mongodb.output.uri', 'mongodb://127.0.0.1:27017/studentsdb.students_age').save()\n"
   ]
  },
  {
   "cell_type": "code",
   "execution_count": 1423,
   "id": "1fdd965c-918a-48df-91bd-a77c11de8597",
   "metadata": {},
   "outputs": [],
   "source": [
    "campus_geo_location.write.format('mongo').mode('overwrite').option('spark.mongodb.output.uri', 'mongodb://127.0.0.1:27017/studentsdb.campus_geo_location').save()"
   ]
  },
  {
   "cell_type": "code",
   "execution_count": 1424,
   "id": "c5bf5204-2e57-43b2-8a66-2f985c7cf318",
   "metadata": {},
   "outputs": [],
   "source": [
    "student_df.write.format('mongo').mode('overwrite').option('spark.mongodb.output.uri', 'mongodb://127.0.0.1:27017/studentsdb.students_df').save()"
   ]
  },
  {
   "cell_type": "code",
   "execution_count": 1425,
   "id": "d5a2ae7c-c69e-40a5-bb61-d2e12df31128",
   "metadata": {},
   "outputs": [],
   "source": [
    "students_of_SUPINFO.write.format('mongo').mode('overwrite').option('spark.mongodb.output.uri', 'mongodb://127.0.0.1:27017/studentsdb.students_of_SUPINFO').save()"
   ]
  },
  {
   "cell_type": "code",
   "execution_count": 1426,
   "id": "718c6712-3cef-41bd-8315-18dec3ae8e26",
   "metadata": {},
   "outputs": [],
   "source": [
    "nb_students_of_SUPINFO_by_campuses.write.format('mongo').mode('overwrite').option('spark.mongodb.output.uri', 'mongodb://127.0.0.1:27017/studentsdb.nb_students_of_SUPINFO_by_campuses').save()"
   ]
  },
  {
   "cell_type": "code",
   "execution_count": 1427,
   "id": "6a8062d3-7d8b-4472-a238-d7c40a063ffa",
   "metadata": {},
   "outputs": [],
   "source": [
    "total_supinfo_students.write.format('mongo').mode('overwrite').option('spark.mongodb.output.uri', 'mongodb://127.0.0.1:27017/studentsdb.total_supinfo_students').save()"
   ]
  },
  {
   "cell_type": "code",
   "execution_count": 1376,
   "id": "fe833b10-8cf4-41fc-a1d3-3288ad692f6a",
   "metadata": {},
   "outputs": [],
   "source": [
    "#-----------------------------------------------Machine Learning Part---------------------------------------------------------"
   ]
  },
  {
   "cell_type": "code",
   "execution_count": 1377,
   "id": "7ce9e522-5640-4868-bdbb-e5a6467be1c7",
   "metadata": {},
   "outputs": [],
   "source": [
    "#----------------------------------------------ML MODELS------------------------------------------------------------"
   ]
  },
  {
   "cell_type": "code",
   "execution_count": 1378,
   "id": "e7d34ed4-0339-4347-8b63-547650be5074",
   "metadata": {},
   "outputs": [],
   "source": [
    "from pyspark.ml import Pipeline\n",
    "from pyspark.ml.regression import RandomForestRegressor\n",
    "from pyspark.ml.feature import VectorAssembler\n",
    "from pyspark.ml.evaluation import RegressionEvaluator"
   ]
  },
  {
   "cell_type": "code",
   "execution_count": 1383,
   "id": "e3fe288a-360c-4a3e-988c-157ce38198f3",
   "metadata": {},
   "outputs": [
    {
     "name": "stdout",
     "output_type": "stream",
     "text": [
      "+--------------------+----------+----------------+\n",
      "|                 _id|    campus|nombre etudiants|\n",
      "+--------------------+----------+----------------+\n",
      "|{61db677cc81e1457...|     LILLE|              72|\n",
      "|{61db677cc81e1457...|     PARIS|              67|\n",
      "|{61db677cc81e1457...|      LYON|              73|\n",
      "|{61db677cc81e1457...|MONTPELIER|              84|\n",
      "|{61db677cc81e1457...|      CAEN|              75|\n",
      "|{61db677cc81e1457...|  CLERMONT|              80|\n",
      "+--------------------+----------+----------------+\n",
      "\n",
      "+--------------------+----------------------+\n",
      "|                 _id|total supinfo students|\n",
      "+--------------------+----------------------+\n",
      "|{61db6753c81e1457...|                    37|\n",
      "+--------------------+----------------------+\n",
      "\n",
      "root\n",
      " |-- _id: struct (nullable = true)\n",
      " |    |-- oid: string (nullable = true)\n",
      " |-- campus: string (nullable = true)\n",
      " |-- nombre etudiants: long (nullable = true)\n",
      "\n"
     ]
    }
   ],
   "source": [
    "# Load students data from mongodb\n",
    "#students_cleaned_loaded_df = spark.read.format('mongo').option('spark.mongodb.input.uri', 'mongodb://127.0.0.1:27017/studentsdb.students_df').load()\n",
    "nb_students_by_region_loaded = spark.read.format('mongo').option('spark.mongodb.input.uri', 'mongodb://127.0.0.1:27017/studentsdb.nb_students_by_region').load()\n",
    "total_supinfo_students_loaded = spark.read.format('mongo').option('spark.mongodb.input.uri', 'mongodb://127.0.0.1:27017/studentsdb.total_supinfo_students').load()\n",
    "\n",
    "nb_students_by_region_loaded.show()\n",
    "total_supinfo_students_loaded.show()\n",
    "nb_students_by_region_loaded.printSchema()"
   ]
  },
  {
   "cell_type": "code",
   "execution_count": 1384,
   "id": "3fbc9d96-3b5e-42ab-8ce7-c09f8df7060e",
   "metadata": {},
   "outputs": [
    {
     "name": "stderr",
     "output_type": "stream",
     "text": [
      "22/01/09 22:53:55 WARN DecisionTreeMetadata: DecisionTree reducing maxBins from 32 to 6 (= number of training instances)\n"
     ]
    },
    {
     "name": "stdout",
     "output_type": "stream",
     "text": [
      "+--------------------+----------+----------------+--------+----------------------------+\n",
      "|                 _id|    campus|nombre etudiants|features|nombre etudiants(Prediction)|\n",
      "+--------------------+----------+----------------+--------+----------------------------+\n",
      "|{61db677cc81e1457...|     LILLE|              72|  [72.0]|                        73.0|\n",
      "|{61db677cc81e1457...|     PARIS|              67|  [67.0]|                        69.1|\n",
      "|{61db677cc81e1457...|      LYON|              73|  [73.0]|                        73.7|\n",
      "|{61db677cc81e1457...|MONTPELIER|              84|  [84.0]|                        81.1|\n",
      "|{61db677cc81e1457...|      CAEN|              75|  [75.0]|                        76.1|\n",
      "+--------------------+----------+----------------+--------+----------------------------+\n",
      "only showing top 5 rows\n",
      "\n"
     ]
    }
   ],
   "source": [
    "\n",
    "# school's growth forecasts (To predict total number of students by campus)\n",
    "\n",
    "# Select features to parse into our model and then create the feature vector\n",
    "assembler = VectorAssembler(inputCols=['nombre etudiants'], outputCol='features')\n",
    "\n",
    "# Create the model\n",
    "model_reg = RandomForestRegressor(featuresCol='features', labelCol='nombre etudiants')\n",
    "\n",
    "\n",
    "# Chain the assembler with the model in a pipeline\n",
    "pipeline = Pipeline(stages=[assembler, model_reg])\n",
    "\n",
    "# Train the model\n",
    "model = pipeline.fit(nb_students_by_region_loaded)\n",
    "\n",
    "# Make the prediction of number of students by regions\n",
    "pred_results_forecast = model.transform(nb_students_by_region_loaded)\n",
    "pred_results_forecast = pred_results_forecast.withColumnRenamed('prediction','nombre etudiants(Prediction)')\n",
    "pred_results_forecast.show(5)"
   ]
  },
  {
   "cell_type": "code",
   "execution_count": 1387,
   "id": "accf4fe2-8e4c-4faf-811d-95d64ea28446",
   "metadata": {},
   "outputs": [],
   "source": [
    "# Load the prediction dataset into mongodb\n",
    "# Write df_pred_results\n",
    "nb_supinfo_students_by_region_prediction = pred_results_forecast.drop('features').withColumn(\"nombre etudiants(Prediction)\",col('nombre etudiants(Prediction)').cast(IntegerType()))\n",
    "nb_supinfo_students_by_region_prediction.write.format('mongo').mode('overwrite').option('spark.mongodb.output.uri', 'mongodb://127.0.0.1:27017/studentsdb.nb_supinfo_students_by_region_prediction').save()"
   ]
  },
  {
   "cell_type": "code",
   "execution_count": null,
   "id": "c8acc5be-c3eb-42b5-aa55-26d8dca5016a",
   "metadata": {},
   "outputs": [],
   "source": []
  },
  {
   "cell_type": "code",
   "execution_count": null,
   "id": "62ce0633-c8f8-4f8d-b390-637ab609cbc1",
   "metadata": {},
   "outputs": [],
   "source": []
  }
 ],
 "metadata": {
  "kernelspec": {
   "display_name": "Python 3 (ipykernel)",
   "language": "python",
   "name": "python3"
  },
  "language_info": {
   "codemirror_mode": {
    "name": "ipython",
    "version": 3
   },
   "file_extension": ".py",
   "mimetype": "text/x-python",
   "name": "python",
   "nbconvert_exporter": "python",
   "pygments_lexer": "ipython3",
   "version": "3.9.7"
  }
 },
 "nbformat": 4,
 "nbformat_minor": 5
}
