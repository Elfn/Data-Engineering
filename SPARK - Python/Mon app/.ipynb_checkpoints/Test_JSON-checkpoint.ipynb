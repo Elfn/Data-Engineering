{
 "cells": [
  {
   "cell_type": "code",
   "execution_count": 2,
   "id": "9abe8a8b-95cd-4aa4-b95a-78288def7615",
   "metadata": {},
   "outputs": [
    {
     "name": "stderr",
     "output_type": "stream",
     "text": [
      "                                                                                \r"
     ]
    },
    {
     "data": {
      "text/plain": [
       "[Row(City='PASEO COSTA DEL SUR', RecordNumber=2, State='PR', ZipCodeType='STANDARD', Zipcode=704)]"
      ]
     },
     "execution_count": 2,
     "metadata": {},
     "output_type": "execute_result"
    }
   ],
   "source": [
    "import findspark\n",
    "findspark.init()\n",
    "\n",
    "import pyspark\n",
    "from pyspark.sql import SparkSession\n",
    "from pyspark.sql.types import *\n",
    "from pyspark.sql.functions import *\n",
    "\n",
    "#Configure spark session\n",
    "spark = SparkSession.builder.master('local[2]').appName('testJson').config('spark.jars.packages', 'org.mongodb.spark:mongo-spark-connector_2.12:2.4.1').getOrCreate()\n",
    "\n",
    "# Load the dataset \"test.json\"\n",
    "\n",
    "multiline_df = spark.read.option(\"multiline\",\"true\").json(r\"/Users/Elimane/SPARK/data/test.json\")\n",
    "#multiline_df.show(false)  \n",
    "\n",
    "#df_load = spark.read.csv(r\"/Users/Elimane/SPARK/data/database.csv\", header=True)\n",
    "#Preview df_load\n",
    "multiline_df.take(1)\n",
    "\n"
   ]
  },
  {
   "cell_type": "code",
   "execution_count": null,
   "id": "ec031656-d967-4c07-a7c0-292bf1772a6a",
   "metadata": {},
   "outputs": [],
   "source": []
  }
 ],
 "metadata": {
  "kernelspec": {
   "display_name": "Python 3 (ipykernel)",
   "language": "python",
   "name": "python3"
  },
  "language_info": {
   "codemirror_mode": {
    "name": "ipython",
    "version": 3
   },
   "file_extension": ".py",
   "mimetype": "text/x-python",
   "name": "python",
   "nbconvert_exporter": "python",
   "pygments_lexer": "ipython3",
   "version": "3.9.7"
  }
 },
 "nbformat": 4,
 "nbformat_minor": 5
}
