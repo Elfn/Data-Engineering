{
 "cells": [
  {
   "cell_type": "code",
   "execution_count": 19,
   "id": "ae5fb9c4-4066-42c4-921e-b9dfdd9a1426",
   "metadata": {},
   "outputs": [],
   "source": [
    "#----------------------------------------------------STAGING/EXTRACTION------------------------------------------"
   ]
  },
  {
   "cell_type": "code",
   "execution_count": 3,
   "id": "072c70f3-bb91-491d-b047-e06370636bb0",
   "metadata": {},
   "outputs": [
    {
     "name": "stderr",
     "output_type": "stream",
     "text": [
      "                                                                                \r"
     ]
    },
    {
     "data": {
      "text/plain": [
       "[Row(data=[Row(attendance=['Sport Event', 'Forums', 'Meetings', 'Student Fair'], birthdate='12-01-1992', credits=305, curriculum=[Row(EndDate=None, business=None, contractType=None, experiences=[Row(EndDate='PRESENT', business='Worldline', contractType='Professional_Contract', position='Data engineer', startDate='01-01-2016')], position=None, skills=None, startDate=None), Row(EndDate=None, business=None, contractType=None, experiences=None, position=None, skills=['QlikView', 'HTML', 'CSS', 'Big Data', 'Python'], startDate=None)], firstname='John', graduated=True, institutionOfOrigin='SUPINFO_LYON', lastname='Doe', mobility=[], regionOfOrigin=Row(latitude=45.1695797, longitude=5.4502821, name='Rhône-Alpes'), skills=None, studies='FINISHED'), Row(attendance=['Tech Conference', 'Forums', 'Training'], birthdate='26-04-1988', credits=280, curriculum=[Row(EndDate=None, business=None, contractType=None, experiences=[Row(EndDate='30-09-2019', business='Atos', contractType='Internship', position='JS Developer', startDate='01-07-2019'), Row(EndDate='30-03-2020', business='Cognizant', contractType='Internship', position='Java Developer', startDate='01-01-2020'), Row(EndDate='01-09-2021', business='Amadeus', contractType='Internship', position='Front-end Developer', startDate='01-04-2021')], position=None, skills=None, startDate=None), Row(EndDate=None, business=None, contractType=None, experiences=None, position=None, skills=['Java', 'HTML', 'CSS', 'Javascript', 'NodeJs'], startDate=None)], firstname='Scott', graduated=False, institutionOfOrigin='SUPINFO_NICE', lastname='Tiger', mobility=[], regionOfOrigin=Row(latitude=43.9466791, longitude=7.179026, name='Alpes-Maritimes'), skills=None, studies='PENDING'), Row(attendance=['Tech Conference', 'Meetings', 'Training', 'Bowling', 'Gaming Tournament', 'Chest Tournament'], birthdate='20-09-1993', credits=278, curriculum=[Row(EndDate=None, business=None, contractType=None, experiences=[Row(EndDate='20-10-2019', business='Beasy', contractType='Internship', position='Data engineer', startDate='14-07-2019'), Row(EndDate='10-04-2020', business='Amaris', contractType='Internship', position='Data engineer', startDate='13-01-2020'), Row(EndDate='05-09-2021', business='Akur8', contractType='Internship', position='Data engineer', startDate='04-04-2021')], position=None, skills=None, startDate=None), Row(EndDate=None, business=None, contractType=None, experiences=None, position=None, skills=['QlikView', 'Java', 'Ruby'], startDate=None)], firstname='Mylene', graduated=False, institutionOfOrigin='SUPINFO_PARIS', lastname='Elsinky', mobility=['LYON', 'PARIS'], regionOfOrigin=Row(latitude=48.8499198, longitude=2.6370411, name='Île-de-France'), skills=None, studies='FINISHED'), Row(attendance=['Forums', 'Student Fair'], birthdate='24-10-1989', credits=310, curriculum=[Row(EndDate=None, business=None, contractType=None, experiences=[Row(EndDate='PRESENT', business='Oracle', contractType='Professional_Contract', position='Data engineer', startDate='01-01-2020')], position=None, skills=None, startDate=None), Row(EndDate=None, business=None, contractType=None, experiences=None, position=None, skills=['.NET', 'HTML', 'CSS', 'TypeScript', 'C#'], startDate=None)], firstname='Boris', graduated=True, institutionOfOrigin='SUPINFO_CAEN', lastname='Baldy', mobility=[], regionOfOrigin=Row(latitude=48.87987, longitude=0.171253, name='Normandie'), skills=None, studies='FINISHED'), Row(attendance=['Student Fair', 'Tech Conference', 'Forums', 'Meetings', 'Bowling', 'Gaming Tournament', 'Chest Tournament'], birthdate='30-10-1991', credits=300, curriculum=[Row(EndDate=None, business=None, contractType=None, experiences=[Row(EndDate='PRESENT', business='Extia', contractType='Professional_Contract', position='Operations system engineer', startDate='11-08-2021')], position=None, skills=None, startDate=None), Row(EndDate=None, business=None, contractType=None, experiences=None, position=None, skills=['Linux', 'Azure', 'Hadoop', 'Big Data'], startDate=None)], firstname='Natalie', graduated=True, institutionOfOrigin='SUPINFO_PARIS', lastname='Koeh', mobility=[], regionOfOrigin=Row(latitude=48.8499198, longitude=2.6370411, name='Île-de-France'), skills=None, studies='FINISHED'), Row(attendance=['Tech Conference', 'Forums', 'Meetings', 'Bowling', 'Gaming Tournament', 'Chest Tournament'], birthdate='14-04-1990', credits=322, curriculum=[Row(EndDate=None, business=None, contractType=None, experiences=[Row(EndDate='PRESENT', business='Amadeus', contractType='Professional_Contract', position='Data engineer', startDate='15-04-2021')], position=None, skills=None, startDate=None), Row(EndDate=None, business=None, contractType=None, experiences=None, position=None, skills=['Machine Learning', 'Data science', 'Big Data', 'Python'], startDate=None)], firstname='Julien', graduated=True, institutionOfOrigin='SUPINFO_PARIS', lastname='Balade', mobility=[], regionOfOrigin=Row(latitude=48.8499198, longitude=2.6370411, name='Île-de-France'), skills=None, studies='FINISHED'), Row(attendance=['Tech Conference', 'Forums', 'Meetings'], birthdate='12-12-1991', credits=210, curriculum=[Row(EndDate=None, business=None, contractType=None, experiences=[Row(EndDate='05-09-2019', business='Apple', contractType='Internship', position='Full-Stack Developer', startDate='04-07-2019'), Row(EndDate='04-03-2019', business='Google', contractType='Internship', position='Cloud Developer', startDate='05-01-2019')], position=None, skills=None, startDate=None), Row(EndDate=None, business=None, contractType=None, experiences=None, position=None, skills=['Angular', 'HTML', 'JS', 'Spring', 'Java', 'GCP'], startDate=None)], firstname='Martin', graduated=False, institutionOfOrigin='SUPINFO_LILLE', lastname='Bucher', mobility=['LILLE', 'TOULOUSE'], regionOfOrigin=Row(latitude=49.847503, longitude=2.763062, name='Hauts-de-France'), skills=None, studies='PENDING'), Row(attendance=['Meetings'], birthdate='17-05-1988', credits=300, curriculum=[Row(EndDate=None, business=None, contractType=None, experiences=[Row(EndDate='PRESENT', business='Societe General', contractType='Professional_Contract', position='Mobile Developer', startDate='12-05-2021')], position=None, skills=None, startDate=None), Row(EndDate=None, business=None, contractType=None, experiences=None, position=None, skills=['React', 'HTML', 'CSS', 'React native', 'Flutter'], startDate=None)], firstname='Marine', graduated=True, institutionOfOrigin='SUPINFO_LILLE', lastname='Gascon', mobility=['NICE', 'LILLE', 'LYON'], regionOfOrigin=Row(latitude=49.847503, longitude=2.763062, name='Hauts-de-France'), skills=None, studies='FINISHED'), Row(attendance=['Student Fair', 'Tech Conference', 'Forums', 'Meetings', 'Bowling', 'Gaming Tournament', 'Chest Tournament'], birthdate='31-03-1990', credits=230, curriculum=[Row(EndDate='30-11-2021', business='Axopen', contractType='Internship', experiences=None, position='Mobile Developer', skills=None, startDate='21-07-2021')], firstname='Mehdi', graduated=False, institutionOfOrigin='SUPINFO_PARIS', lastname='Haraoui', mobility=['PARIS', 'CLERMONT-FERRAND', 'MARSEILLE'], regionOfOrigin=Row(latitude=48.8499198, longitude=2.6370411, name='Île-de-France'), skills=None, studies='FINISHED'), Row(attendance=None, birthdate=None, credits=None, curriculum=None, firstname=None, graduated=None, institutionOfOrigin=None, lastname=None, mobility=None, regionOfOrigin=None, skills=['Ionis', 'Angular', 'Flutter', 'Swift'], studies=None)])]"
      ]
     },
     "execution_count": 3,
     "metadata": {},
     "output_type": "execute_result"
    }
   ],
   "source": [
    "import findspark\n",
    "findspark.init()\n",
    "\n",
    "import pyspark\n",
    "from pyspark.sql import SparkSession\n",
    "from pyspark.sql.types import *\n",
    "from pyspark.sql.functions import *\n",
    "from datetime import datetime\n",
    "\n",
    "\n",
    "#Configure spark session\n",
    "spark = SparkSession.builder.master('local[2]').appName('testJson').config('spark.jars.packages', 'org.mongodb.spark:mongo-spark-connector_2.12:2.4.1').getOrCreate()\n",
    "\n",
    "# Extract the dataset \"studentdatabase.json\" and add it to dataframe\n",
    "\n",
    "extracted_df = spark.read.option(\"multiline\",\"true\").json(r\"/Users/Elimane/SPARK/data/studentdatabase.json\")\n",
    "#multiline_df.show(2)  \n",
    "\n",
    "#df_load = spark.read.csv(r\"/Users/Elimane/SPARK/data/database.csv\", header=True)\n",
    "#Preview extracted_df\n",
    "extracted_df.take(1)\n"
   ]
  },
  {
   "cell_type": "code",
   "execution_count": 4,
   "id": "c5fc06ca-5667-4825-bc39-14fad118500b",
   "metadata": {},
   "outputs": [],
   "source": [
    "#----------------------------------------------------CLEANSING/TRANSFORMATION------------------------------------------"
   ]
  },
  {
   "cell_type": "code",
   "execution_count": 5,
   "id": "acfafbab-cfb7-4e06-b141-57490aa47b0d",
   "metadata": {},
   "outputs": [
    {
     "name": "stdout",
     "output_type": "stream",
     "text": [
      "root\n",
      " |-- firstname: string (nullable = true)\n",
      " |-- lastname: string (nullable = true)\n",
      " |-- birthdate: string (nullable = true)\n",
      " |-- graduated: boolean (nullable = true)\n",
      " |-- regionOfOrigin: struct (nullable = true)\n",
      " |    |-- latitude: double (nullable = true)\n",
      " |    |-- longitude: double (nullable = true)\n",
      " |    |-- name: string (nullable = true)\n",
      " |-- institutionOfOrigin: string (nullable = true)\n",
      " |-- attendance: array (nullable = true)\n",
      " |    |-- element: string (containsNull = true)\n",
      " |-- credits: long (nullable = true)\n",
      " |-- business: array (nullable = true)\n",
      " |    |-- element: string (containsNull = true)\n",
      " |-- position: array (nullable = true)\n",
      " |    |-- element: string (containsNull = true)\n",
      " |-- startDate: array (nullable = true)\n",
      " |    |-- element: string (containsNull = true)\n",
      " |-- EndDate: array (nullable = true)\n",
      " |    |-- element: string (containsNull = true)\n",
      " |-- contractType: array (nullable = true)\n",
      " |    |-- element: string (containsNull = true)\n",
      " |-- studies: string (nullable = true)\n",
      "\n"
     ]
    }
   ],
   "source": [
    "\n",
    "# read all the students name\n",
    "readData = extracted_df.withColumn('res',explode('data'))\n",
    "students_df = readData.withColumn('res_curriculum',explode('res.curriculum')).select('res.firstname','res.lastname',col(\"res.birthdate\"),'res.graduated','res.regionOfOrigin','res.institutionOfOrigin','res.attendance','res.credits','res_curriculum.experiences.business','res_curriculum.experiences.position','res_curriculum.experiences.startDate','res_curriculum.experiences.EndDate','res_curriculum.experiences.contractType','res.studies')\n",
    "\n",
    "# Preview schemas\n",
    "students_df.printSchema()\n"
   ]
  },
  {
   "cell_type": "code",
   "execution_count": 6,
   "id": "8464c328-93fe-48a0-aba2-7ddf24d915fe",
   "metadata": {},
   "outputs": [
    {
     "name": "stdout",
     "output_type": "stream",
     "text": [
      "+---------+--------+---------------+-------------------+-------+\n",
      "|firstname|lastname|     regionName|institutionOfOrigin|credits|\n",
      "+---------+--------+---------------+-------------------+-------+\n",
      "|    Boris|   Baldy|      Normandie|       SUPINFO_CAEN|    310|\n",
      "|     John|     Doe|    Rhône-Alpes|       SUPINFO_LYON|    305|\n",
      "|   Julien|  Balade|  Île-de-France|      SUPINFO_PARIS|    322|\n",
      "|   Marine|  Gascon|Hauts-de-France|      SUPINFO_LILLE|    300|\n",
      "|   Martin|  Bucher|Hauts-de-France|      SUPINFO_LILLE|    210|\n",
      "|    Mehdi| Haraoui|  Île-de-France|      SUPINFO_PARIS|    230|\n",
      "|   Mylene| Elsinky|  Île-de-France|      SUPINFO_PARIS|    278|\n",
      "|  Natalie|    Koeh|  Île-de-France|      SUPINFO_PARIS|    300|\n",
      "|    Scott|   Tiger|Alpes-Maritimes|       SUPINFO_NICE|    280|\n",
      "+---------+--------+---------------+-------------------+-------+\n",
      "\n"
     ]
    }
   ],
   "source": [
    "# 1- Most successful students [They got 300 credits or more]\n",
    "successful_df = students_df.dropDuplicates([\"firstname\",\"lastname\"]).select('firstname','lastname','regionOfOrigin.name','institutionOfOrigin','credits').withColumnRenamed('name', 'regionName').filter(students_df['credits'] >= 300)\n",
    "successful_number_df = successful_df.dropna().count()\n",
    "students_cleaned_df = students_df.dropDuplicates([\"firstname\",\"lastname\"]).select('firstname','lastname','regionOfOrigin.name','regionOfOrigin.latitude','regionOfOrigin.longitude','institutionOfOrigin','credits').withColumnRenamed('name', 'regionName').drop('latitude','longitude')\n",
    "students_cleaned_df\n",
    "# preview \n",
    "finalResult = students_cleaned_df\n",
    "\n",
    "finalResult.show()\n"
   ]
  },
  {
   "cell_type": "code",
   "execution_count": 7,
   "id": "fc56652e-bb9c-4f4c-b853-f8982de0737e",
   "metadata": {},
   "outputs": [
    {
     "name": "stdout",
     "output_type": "stream",
     "text": [
      "+--------------+-------------+-------------------+-------+--------+\n",
      "|  student_name|   regionName|institutionOfOrigin|credits| studies|\n",
      "+--------------+-------------+-------------------+-------+--------+\n",
      "| Mehdi Haraoui|Île-de-France|      SUPINFO_PARIS|    230|FINISHED|\n",
      "|Mylene Elsinky|Île-de-France|      SUPINFO_PARIS|    278|FINISHED|\n",
      "+--------------+-------------+-------------------+-------+--------+\n",
      "\n"
     ]
    }
   ],
   "source": [
    "# 2- Students who stop their studies\n",
    "students_studies_stopped = students_df.dropDuplicates([\"firstname\",\"lastname\"]).select(concat('firstname',lit(\" \"),'lastname').alias('student_name'),'regionOfOrigin.name','institutionOfOrigin','credits','studies').withColumnRenamed('name', 'regionName').filter((students_df['studies'] == 'FINISHED') & (students_df['credits'] < 300))\n",
    "\n",
    "# preview \n",
    "finalResult = students_studies_stopped\n",
    "\n",
    "finalResult.show()"
   ]
  },
  {
   "cell_type": "code",
   "execution_count": 8,
   "id": "87b7018c-d1b0-4bc1-b1d0-97e757e41ec3",
   "metadata": {},
   "outputs": [
    {
     "name": "stdout",
     "output_type": "stream",
     "text": [
      "+---------------+--------------+---------------+-------------------+------------------+\n",
      "|     regionName|regionLatitude|regionLongitude|institutionOfOrigin|Number_of_students|\n",
      "+---------------+--------------+---------------+-------------------+------------------+\n",
      "|Alpes-Maritimes|    43.9466791|       7.179026|       SUPINFO_NICE|                 1|\n",
      "|Hauts-de-France|     49.847503|       2.763062|      SUPINFO_LILLE|                 2|\n",
      "|      Normandie|      48.87987|       0.171253|       SUPINFO_CAEN|                 1|\n",
      "|  Île-de-France|    48.8499198|      2.6370411|      SUPINFO_PARIS|                 3|\n",
      "|    Rhône-Alpes|    45.1695797|      5.4502821|       SUPINFO_LYON|                 1|\n",
      "+---------------+--------------+---------------+-------------------+------------------+\n",
      "\n"
     ]
    }
   ],
   "source": [
    "# 3- Students by regions and institutions \n",
    "number_students_by_regions = students_df.dropna().groupBy('regionOfOrigin.name','regionOfOrigin.latitude','regionOfOrigin.longitude','institutionOfOrigin').count().withColumnRenamed('count', 'Number_of_students').withColumnRenamed('name', 'regionName').withColumnRenamed('latitude', 'regionLatitude').withColumnRenamed('longitude', 'regionLongitude')\n",
    "\n",
    "# preview \n",
    "finalResult = number_students_by_regions\n",
    "\n",
    "finalResult.show()"
   ]
  },
  {
   "cell_type": "code",
   "execution_count": 9,
   "id": "46665a71-f14b-4e32-a010-1ca8d1249164",
   "metadata": {},
   "outputs": [
    {
     "name": "stdout",
     "output_type": "stream",
     "text": [
      "+--------------+----------+---------------+--------------+---------------+--------------------+---------------------+\n",
      "|  student_name| birthdate|     regionName|regionLatitude|regionLongitude|         attendances|number_of_attendances|\n",
      "+--------------+----------+---------------+--------------+---------------+--------------------+---------------------+\n",
      "|   Boris Baldy|24-10-1989|      Normandie|      48.87987|       0.171253|[Forums, Student ...|                    2|\n",
      "|      John Doe|12-01-1992|    Rhône-Alpes|    45.1695797|      5.4502821|[Sport Event, For...|                    4|\n",
      "| Julien Balade|14-04-1990|  Île-de-France|    48.8499198|      2.6370411|[Tech Conference,...|                    6|\n",
      "| Marine Gascon|17-05-1988|Hauts-de-France|     49.847503|       2.763062|          [Meetings]|                    1|\n",
      "| Martin Bucher|12-12-1991|Hauts-de-France|     49.847503|       2.763062|[Tech Conference,...|                    3|\n",
      "| Mehdi Haraoui|31-03-1990|  Île-de-France|    48.8499198|      2.6370411|[Student Fair, Te...|                    7|\n",
      "|Mylene Elsinky|20-09-1993|  Île-de-France|    48.8499198|      2.6370411|[Tech Conference,...|                    6|\n",
      "|  Natalie Koeh|30-10-1991|  Île-de-France|    48.8499198|      2.6370411|[Student Fair, Te...|                    7|\n",
      "|   Scott Tiger|26-04-1988|Alpes-Maritimes|    43.9466791|       7.179026|[Tech Conference,...|                    3|\n",
      "+--------------+----------+---------------+--------------+---------------+--------------------+---------------------+\n",
      "\n"
     ]
    }
   ],
   "source": [
    "# Regions and  By attendances\n",
    "regions_by_attendances = students_df.dropDuplicates([\"firstname\",\"lastname\"]).select(concat('firstname',lit(\" \"),'lastname').alias('student_name'),'birthdate','regionOfOrigin.name','regionOfOrigin.latitude','regionOfOrigin.longitude','attendance').withColumn(\"number_of_attendances\",size(col(\"attendance\"))).withColumnRenamed('attendance', 'attendances').withColumnRenamed('name', 'regionName').withColumnRenamed('latitude', 'regionLatitude').withColumnRenamed('longitude', 'regionLongitude')\n",
    "\n",
    "# preview \n",
    "finalResult = regions_by_attendances\n",
    "\n",
    "finalResult.show()\n"
   ]
  },
  {
   "cell_type": "code",
   "execution_count": 23,
   "id": "e1045997-0c1d-44ce-ae23-489c47f9d08e",
   "metadata": {},
   "outputs": [
    {
     "name": "stdout",
     "output_type": "stream",
     "text": [
      "+--------------+--------------------+---------------+--------------------+\n",
      "|  student_name|birthdate_new_format|     regionName|         attendances|\n",
      "+--------------+--------------------+---------------+--------------------+\n",
      "|   Boris Baldy|          24/10/1989|      Normandie|[Forums, Student ...|\n",
      "|      John Doe|          12/01/1992|    Rhône-Alpes|[Sport Event, For...|\n",
      "| Julien Balade|          14/04/1990|  Île-de-France|[Tech Conference,...|\n",
      "| Marine Gascon|          17/05/1988|Hauts-de-France|          [Meetings]|\n",
      "| Martin Bucher|          12/12/1991|Hauts-de-France|[Tech Conference,...|\n",
      "| Mehdi Haraoui|          31/03/1990|  Île-de-France|[Student Fair, Te...|\n",
      "|Mylene Elsinky|          20/09/1993|  Île-de-France|[Tech Conference,...|\n",
      "|  Natalie Koeh|          30/10/1991|  Île-de-France|[Student Fair, Te...|\n",
      "|   Scott Tiger|          26/04/1988|Alpes-Maritimes|[Tech Conference,...|\n",
      "+--------------+--------------------+---------------+--------------------+\n",
      "\n"
     ]
    }
   ],
   "source": [
    "# Change birthDate format and add right values\n",
    "students_with_date_format_changed = students_df.dropDuplicates([\"firstname\",\"lastname\"]).select(concat('firstname',lit(\" \"),'lastname').alias('student_name'),date_format(to_date('birthdate', \"dd-MM-yyyy\"),\"dd/MM/yyyy\").alias('birthdate_new_format'),'regionOfOrigin.name','attendance').withColumnRenamed('attendance', 'attendances').withColumnRenamed('name', 'regionName')\n",
    "\n",
    "# preview \n",
    "finalResult = students_with_date_format_changed\n",
    "\n",
    "finalResult.show()"
   ]
  },
  {
   "cell_type": "code",
   "execution_count": 11,
   "id": "1df3801f-6766-48d5-a5fe-5b8e79891b4c",
   "metadata": {},
   "outputs": [
    {
     "name": "stdout",
     "output_type": "stream",
     "text": [
      "+--------------+----------+---+\n",
      "|  student_name| birthdate|age|\n",
      "+--------------+----------+---+\n",
      "|   Boris Baldy|24/10/1989| 33|\n",
      "|      John Doe|12/01/1992| 30|\n",
      "| Julien Balade|14/04/1990| 32|\n",
      "| Marine Gascon|17/05/1988| 34|\n",
      "| Martin Bucher|12/12/1991| 31|\n",
      "| Mehdi Haraoui|31/03/1990| 32|\n",
      "|Mylene Elsinky|20/09/1993| 29|\n",
      "|  Natalie Koeh|30/10/1991| 31|\n",
      "|   Scott Tiger|26/04/1988| 34|\n",
      "+--------------+----------+---+\n",
      "\n"
     ]
    }
   ],
   "source": [
    "# Calculate students ages\n",
    "students_age_df = students_df.dropDuplicates([\"firstname\",\"lastname\"]).select(concat('firstname',lit(\" \"),'lastname').alias('student_name'),date_format(to_date('birthdate',\"dd-MM-yyyy\"),\"dd/MM/yyyy\").alias(\"birthdate\")).withColumn(\"age\",year(current_date()) - year(to_date(col('birthdate'),\"dd/MM/yyyy\"))).withColumnRenamed('attendance', 'attendances')\n",
    "\n",
    "# preview \n",
    "finalResult = students_age_df\n",
    "\n",
    "finalResult.show()"
   ]
  },
  {
   "cell_type": "code",
   "execution_count": 12,
   "id": "2a0c1748-6dde-42e0-886c-4dfe17c63eb0",
   "metadata": {},
   "outputs": [
    {
     "name": "stdout",
     "output_type": "stream",
     "text": [
      "+-------------+---------+-----------------+--------------------+-------------------+---------------+--------------------+------------+---------+------------------+\n",
      "| student_name|graduated|         business|            position|institutionOfOrigin|     regionName|        contractType|   startDate|  EndDate|Currently_In_Hired|\n",
      "+-------------+---------+-----------------+--------------------+-------------------+---------------+--------------------+------------+---------+------------------+\n",
      "|  Boris Baldy|     true|         [Oracle]|     [Data engineer]|       SUPINFO_CAEN|      Normandie|[Professional_Con...|[01-01-2020]|[PRESENT]|              true|\n",
      "|     John Doe|     true|      [Worldline]|     [Data engineer]|       SUPINFO_LYON|    Rhône-Alpes|[Professional_Con...|[01-01-2016]|[PRESENT]|              true|\n",
      "|Julien Balade|     true|        [Amadeus]|     [Data engineer]|      SUPINFO_PARIS|  Île-de-France|[Professional_Con...|[15-04-2021]|[PRESENT]|              true|\n",
      "|Marine Gascon|     true|[Societe General]|  [Mobile Developer]|      SUPINFO_LILLE|Hauts-de-France|[Professional_Con...|[12-05-2021]|[PRESENT]|              true|\n",
      "| Natalie Koeh|     true|          [Extia]|[Operations syste...|      SUPINFO_PARIS|  Île-de-France|[Professional_Con...|[11-08-2021]|[PRESENT]|              true|\n",
      "+-------------+---------+-----------------+--------------------+-------------------+---------------+--------------------+------------+---------+------------------+\n",
      "\n"
     ]
    }
   ],
   "source": [
    "# students curriculum\n",
    "students_curriculum = students_df.dropDuplicates([\"firstname\",\"lastname\"]).select(concat('firstname',lit(\" \"),'lastname').alias('student_name'),'graduated','business','position','institutionOfOrigin','regionOfOrigin.name','contractType','startDate','EndDate').withColumnRenamed('name', 'regionName')\n",
    "students_curriculum_ordered_df = students_curriculum.orderBy(col(\"student_name\")).dropna()\n",
    "\n",
    "# preview \n",
    "finalResult = students_df\n",
    "\n",
    "#finalResult.show(9)\n",
    "\n",
    "\n",
    "#students currently hired and not\n",
    "students_with_hiring_status = students_curriculum_ordered_df.withColumn(\"Currently_In_Hired\",array_contains(col(\"EndDate\"),\"PRESENT\"))\n",
    "student_hired = students_with_hiring_status.filter(col('Currently_In_Hired') == 'true')\n",
    "student_not_hired = students_with_hiring_status.select('student_name','startDate','EndDate','Currently_In_Hired').filter(col('Currently_In_Hired') == 'false')\n",
    "\n",
    "# preview \n",
    "finalResult = student_hired\n",
    "\n",
    "finalResult.show()"
   ]
  },
  {
   "cell_type": "code",
   "execution_count": 13,
   "id": "09974e0d-899b-4116-860b-8a1f43d8d60b",
   "metadata": {},
   "outputs": [
    {
     "name": "stdout",
     "output_type": "stream",
     "text": [
      "+---------------+-------------------+------------------------+\n",
      "|     regionName|institutionOfOrigin|Number_of_students_hired|\n",
      "+---------------+-------------------+------------------------+\n",
      "|    Rhône-Alpes|       SUPINFO_LYON|                       1|\n",
      "|      Normandie|       SUPINFO_CAEN|                       1|\n",
      "|Hauts-de-France|      SUPINFO_LILLE|                       1|\n",
      "|  Île-de-France|      SUPINFO_PARIS|                       2|\n",
      "+---------------+-------------------+------------------------+\n",
      "\n"
     ]
    }
   ],
   "source": [
    "# number of students hired and not by region\n",
    "nb_students_not_hired = students_with_hiring_status.dropDuplicates([\"student_name\"]).select('regionName','Currently_In_Hired','institutionOfOrigin').filter(col('Currently_In_Hired') == 'false').groupBy(\"regionName\",\"institutionOfOrigin\").count().withColumnRenamed('count', 'Number_of_students_not_hired')\n",
    "nb_students_hired = students_with_hiring_status.dropDuplicates([\"student_name\"]).select('regionName','Currently_In_Hired','institutionOfOrigin').filter(col('Currently_In_Hired') == 'true').groupBy(\"regionName\",\"institutionOfOrigin\").count().withColumnRenamed('count', 'Number_of_students_hired')\n",
    "\n",
    "# preview \n",
    "finalResult = nb_students_hired\n",
    "\n",
    "finalResult.show()"
   ]
  },
  {
   "cell_type": "code",
   "execution_count": 14,
   "id": "1d3d2de7-d9f9-4c79-89ea-16bd1838ebd3",
   "metadata": {},
   "outputs": [
    {
     "name": "stdout",
     "output_type": "stream",
     "text": [
      "+----------+--------------------+\n",
      "|businesses|companies_occurences|\n",
      "+----------+--------------------+\n",
      "|   Amadeus|                   2|\n",
      "+----------+--------------------+\n",
      "\n"
     ]
    }
   ],
   "source": [
    "# Companies which recruit the most supinfo's students\n",
    "companies_occurences_df = students_with_hiring_status.withColumn('businesses', explode('business')).groupBy('businesses').count()\n",
    "most_reccurent_companies_df = companies_occurences_df.withColumnRenamed('count', 'companies_occurences').filter(col('companies_occurences') > 1)\n",
    "\n",
    "# preview \n",
    "finalResult = most_reccurent_companies_df\n",
    "\n",
    "finalResult.show()"
   ]
  },
  {
   "cell_type": "code",
   "execution_count": 15,
   "id": "7597f9f3-1c75-4c68-afcb-54c7a6470a8f",
   "metadata": {},
   "outputs": [
    {
     "name": "stdout",
     "output_type": "stream",
     "text": [
      "+-------------+---------------+---------+-----------------+------------+---------+--------------------+\n",
      "| student_name|     regionName|graduated|         business|   startDate|  EndDate|        contractType|\n",
      "+-------------+---------------+---------+-----------------+------------+---------+--------------------+\n",
      "|  Boris Baldy|      Normandie|     true|         [Oracle]|[01-01-2020]|[PRESENT]|[Professional_Con...|\n",
      "|     John Doe|    Rhône-Alpes|     true|      [Worldline]|[01-01-2016]|[PRESENT]|[Professional_Con...|\n",
      "|Julien Balade|  Île-de-France|     true|        [Amadeus]|[15-04-2021]|[PRESENT]|[Professional_Con...|\n",
      "|Marine Gascon|Hauts-de-France|     true|[Societe General]|[12-05-2021]|[PRESENT]|[Professional_Con...|\n",
      "| Natalie Koeh|  Île-de-France|     true|          [Extia]|[11-08-2021]|[PRESENT]|[Professional_Con...|\n",
      "+-------------+---------------+---------+-----------------+------------+---------+--------------------+\n",
      "\n"
     ]
    }
   ],
   "source": [
    "# Graduated students\n",
    "graduated_students = students_with_hiring_status['student_name','regionName','graduated','business','startDate','EndDate','contractType'].filter(col('graduated') == 'true')\n",
    "\n",
    "# preview \n",
    "finalResult = graduated_students\n",
    "\n",
    "finalResult.show()"
   ]
  },
  {
   "cell_type": "code",
   "execution_count": 16,
   "id": "d45b8d57-4fd4-4dfe-a01a-d362b9815efc",
   "metadata": {},
   "outputs": [
    {
     "name": "stdout",
     "output_type": "stream",
     "text": [
      "+-------------+---------------+----------+----------+--------------------+------------------+\n",
      "| student_name|     regionName| startDate|   EndDate|        contractType|             years|\n",
      "+-------------+---------------+----------+----------+--------------------+------------------+\n",
      "|  Boris Baldy|      Normandie|01-01-2020|08-01-2022|Professional_Cont...| 2.021917808219178|\n",
      "|     John Doe|    Rhône-Alpes|01-01-2016|08-01-2022|Professional_Cont...| 6.024657534246575|\n",
      "|Julien Balade|  Île-de-France|15-04-2021|08-01-2022|Professional_Cont...|0.7342465753424657|\n",
      "|Marine Gascon|Hauts-de-France|12-05-2021|08-01-2022|Professional_Cont...|0.6602739726027397|\n",
      "| Natalie Koeh|  Île-de-France|11-08-2021|08-01-2022|Professional_Cont...| 0.410958904109589|\n",
      "+-------------+---------------+----------+----------+--------------------+------------------+\n",
      "\n"
     ]
    }
   ],
   "source": [
    "# average length of time graduates are hired\n",
    "\n",
    "hired_times = graduated_students['student_name','regionName','startDate','EndDate','contractType'].withColumn('EndDate',explode('EndDate')).withColumn('startDate',explode('startDate')).withColumn('contractType',explode('contractType')).withColumnRenamed(\"name\",\"RegionName\")\n",
    "hired_times_cleaned = hired_times.where((col('EndDate') == \"PRESENT\") & (col('contractType') == \"Professional_Contract\")).withColumn('EndDate',when(col('EndDate') == \"PRESENT\",date_format(to_date(current_date(),\"dd-MM-yyyy\"),\"dd-MM-yyyy\")).otherwise(col('EndDate'))).withColumn('years', (datediff(to_date('EndDate',\"dd-MM-yyyy\"),to_date('startDate',\"dd-MM-yyyy\")))/365)\n",
    "years = hired_times_cleaned.drop('student_name','startDate','EndDate','contractType')\n",
    "avg = years.select(round((sum(years['years'])/count(years['years']))).alias('average_length_time_hired_years'))\n",
    "\n",
    "hired_times_cleaned.show()"
   ]
  },
  {
   "cell_type": "code",
   "execution_count": 17,
   "id": "2c949678-5123-487a-b299-7a4316e1b334",
   "metadata": {},
   "outputs": [
    {
     "name": "stdout",
     "output_type": "stream",
     "text": [
      "+-------------+--------------------+-----------------------+\n",
      "|   RegionName|        contractType|number_of_pro_contracts|\n",
      "+-------------+--------------------+-----------------------+\n",
      "|Île-de-France|Professional_Cont...|                      2|\n",
      "+-------------+--------------------+-----------------------+\n",
      "\n"
     ]
    }
   ],
   "source": [
    "#Pro contracts by regions\n",
    "pro_contract_by_region = hired_times_cleaned['RegionName','contractType'].groupBy('RegionName','contractType').count().withColumnRenamed('count','number_of_pro_contracts').where(col('number_of_pro_contracts') > 1)\n",
    "pro_contract_by_region.show()\n"
   ]
  },
  {
   "cell_type": "code",
   "execution_count": null,
   "id": "9a2e44df-5453-4de9-8c34-3ac094b49c53",
   "metadata": {},
   "outputs": [],
   "source": []
  },
  {
   "cell_type": "code",
   "execution_count": 18,
   "id": "6121e31a-749b-4c8c-9914-5a501b7e864e",
   "metadata": {},
   "outputs": [],
   "source": [
    "# competitors who are poaching SUPINFO's students"
   ]
  },
  {
   "cell_type": "code",
   "execution_count": 19,
   "id": "8b589b6b-dfbe-4ad6-aab6-55a664984f4c",
   "metadata": {},
   "outputs": [],
   "source": [
    "#----------------------------------------------------STORING/LOADING------------------------------------------"
   ]
  },
  {
   "cell_type": "code",
   "execution_count": 20,
   "id": "5e21e056-d2fa-42a8-8efe-75e8d536bdc8",
   "metadata": {},
   "outputs": [
    {
     "name": "stdout",
     "output_type": "stream",
     "text": [
      "+---------+--------+-----------+-------------------+-------+\n",
      "|firstname|lastname| regionName|institutionOfOrigin|credits|\n",
      "+---------+--------+-----------+-------------------+-------+\n",
      "|    Boris|   Baldy|  Normandie|       SUPINFO_CAEN|    310|\n",
      "|     John|     Doe|Rhône-Alpes|       SUPINFO_LYON|    305|\n",
      "+---------+--------+-----------+-------------------+-------+\n",
      "only showing top 2 rows\n",
      "\n"
     ]
    }
   ],
   "source": [
    "# Build the tables or collections\n",
    "# Write dataframes to mongodb\n",
    "successful_df.write.format('mongo').mode('overwrite').option('spark.mongodb.output.uri', 'mongodb://127.0.0.1:27017/Student.successfull_students').save()\n",
    "successful_df.show(2)"
   ]
  },
  {
   "cell_type": "code",
   "execution_count": 21,
   "id": "aacb9c9e-179d-4dd9-ac68-8dda7ba93d16",
   "metadata": {},
   "outputs": [],
   "source": [
    "students_studies_stopped.write.format('mongo').mode('overwrite').option('spark.mongodb.output.uri', 'mongodb://127.0.0.1:27017/Student.studies_stopped').save()\n"
   ]
  },
  {
   "cell_type": "code",
   "execution_count": 22,
   "id": "bb049c0e-3313-4375-9873-fa9d066ec726",
   "metadata": {},
   "outputs": [],
   "source": [
    "number_students_by_regions.write.format('mongo').mode('overwrite').option('spark.mongodb.output.uri', 'mongodb://127.0.0.1:27017/Student.number_students_by_regions').save()"
   ]
  },
  {
   "cell_type": "code",
   "execution_count": 22,
   "id": "71cf8cd4-cad7-4940-89e2-c835643e2d55",
   "metadata": {},
   "outputs": [],
   "source": [
    "regions_by_attendances.write.format('mongo').mode('overwrite').option('spark.mongodb.output.uri', 'mongodb://127.0.0.1:27017/Student.regions_by_attendances').save()"
   ]
  },
  {
   "cell_type": "code",
   "execution_count": 23,
   "id": "aecb3618-c7aa-461d-9ebe-b42d28a25868",
   "metadata": {},
   "outputs": [],
   "source": [
    "students_with_date_format_changed.write.format('mongo').mode('overwrite').option('spark.mongodb.output.uri', 'mongodb://127.0.0.1:27017/Student.students_with_date_format_changed').save()"
   ]
  },
  {
   "cell_type": "code",
   "execution_count": 24,
   "id": "e500786f-67e4-4064-9af7-4b69cf74f30e",
   "metadata": {},
   "outputs": [],
   "source": [
    "students_age_df.write.format('mongo').mode('overwrite').option('spark.mongodb.output.uri', 'mongodb://127.0.0.1:27017/Student.students_age_df').save()\n"
   ]
  },
  {
   "cell_type": "code",
   "execution_count": 25,
   "id": "34d887bb-c178-4fec-99d6-826f6cb2e820",
   "metadata": {},
   "outputs": [],
   "source": [
    "students_curriculum_ordered_df.write.format('mongo').mode('overwrite').option('spark.mongodb.output.uri', 'mongodb://127.0.0.1:27017/Student.students_curriculum_ordered_df').save()"
   ]
  },
  {
   "cell_type": "code",
   "execution_count": 26,
   "id": "389000d5-29ad-496c-bd11-d9e059ea5a75",
   "metadata": {},
   "outputs": [],
   "source": [
    "student_hired.write.format('mongo').mode('overwrite').option('spark.mongodb.output.uri', 'mongodb://127.0.0.1:27017/Student.student_hired').save()\n"
   ]
  },
  {
   "cell_type": "code",
   "execution_count": 27,
   "id": "2ad74122-4e15-45be-a96f-862081932996",
   "metadata": {},
   "outputs": [],
   "source": [
    "nb_students_not_hired.write.format('mongo').mode('overwrite').option('spark.mongodb.output.uri', 'mongodb://127.0.0.1:27017/Student.nb_students_not_hired').save()\n"
   ]
  },
  {
   "cell_type": "code",
   "execution_count": 28,
   "id": "ca2bce15-e9a6-4e75-add5-ec14e64fe4a7",
   "metadata": {},
   "outputs": [],
   "source": [
    "pro_contract_by_region.write.format('mongo').mode('overwrite').option('spark.mongodb.output.uri', 'mongodb://127.0.0.1:27017/Student.pro_contract_by_region').save()"
   ]
  },
  {
   "cell_type": "code",
   "execution_count": 29,
   "id": "d501eb44-980a-4e4c-931a-68cd449d6315",
   "metadata": {},
   "outputs": [],
   "source": [
    "most_reccurent_companies_df.write.format('mongo').mode('overwrite').option('spark.mongodb.output.uri', 'mongodb://127.0.0.1:27017/Student.most_reccurent_companies_df').save()"
   ]
  },
  {
   "cell_type": "code",
   "execution_count": 30,
   "id": "a2c93371-9293-4c92-a6ea-528ba90161ec",
   "metadata": {},
   "outputs": [],
   "source": [
    "graduated_students.write.format('mongo').mode('overwrite').option('spark.mongodb.output.uri', 'mongodb://127.0.0.1:27017/Student.graduated_students').save()"
   ]
  },
  {
   "cell_type": "code",
   "execution_count": 31,
   "id": "b18c2dd2-b543-49c3-948f-bd5643333e10",
   "metadata": {},
   "outputs": [],
   "source": [
    "avg.write.format('mongo').mode('overwrite').option('spark.mongodb.output.uri', 'mongodb://127.0.0.1:27017/Student.avg_graduated_hired').save()"
   ]
  },
  {
   "cell_type": "code",
   "execution_count": 40,
   "id": "2d9b5065-c608-45d7-a2cd-ee50a418b1dd",
   "metadata": {},
   "outputs": [
    {
     "name": "stdout",
     "output_type": "stream",
     "text": [
      "root\n",
      " |-- firstname: string (nullable = true)\n",
      " |-- lastname: string (nullable = true)\n",
      " |-- regionName: string (nullable = true)\n",
      " |-- institutionOfOrigin: string (nullable = true)\n",
      " |-- credits: long (nullable = true)\n",
      "\n",
      "+---------+--------+---------------+-------------------+-------+\n",
      "|firstname|lastname|     regionName|institutionOfOrigin|credits|\n",
      "+---------+--------+---------------+-------------------+-------+\n",
      "|    Boris|   Baldy|      Normandie|       SUPINFO_CAEN|    310|\n",
      "|     John|     Doe|    Rhône-Alpes|       SUPINFO_LYON|    305|\n",
      "|   Julien|  Balade|  Île-de-France|      SUPINFO_PARIS|    322|\n",
      "|   Marine|  Gascon|Hauts-de-France|      SUPINFO_LILLE|    300|\n",
      "|   Martin|  Bucher|Hauts-de-France|      SUPINFO_LILLE|    210|\n",
      "|    Mehdi| Haraoui|  Île-de-France|      SUPINFO_PARIS|    230|\n",
      "|   Mylene| Elsinky|  Île-de-France|      SUPINFO_PARIS|    278|\n",
      "|  Natalie|    Koeh|  Île-de-France|      SUPINFO_PARIS|    300|\n",
      "|    Scott|   Tiger|Alpes-Maritimes|       SUPINFO_NICE|    280|\n",
      "+---------+--------+---------------+-------------------+-------+\n",
      "\n"
     ]
    }
   ],
   "source": [
    "students_cleaned_df.printSchema()\n",
    "students_cleaned_df.write.format('mongo').mode('overwrite').option('spark.mongodb.output.uri', 'mongodb://127.0.0.1:27017/Student.students_df').save()\n",
    "students_cleaned_df.show()"
   ]
  },
  {
   "cell_type": "code",
   "execution_count": 176,
   "id": "52a684ae-29c3-4ab6-a3c1-fc42825ea33f",
   "metadata": {},
   "outputs": [
    {
     "data": {
      "text/plain": [
       "'\\n\\nMachine Learning Part\\n\\n'"
      ]
     },
     "execution_count": 176,
     "metadata": {},
     "output_type": "execute_result"
    }
   ],
   "source": [
    "\"\"\"\n",
    "\n",
    "Machine Learning Part\n",
    "\n",
    "\"\"\""
   ]
  },
  {
   "cell_type": "code",
   "execution_count": null,
   "id": "4ff8668a-035a-4238-b8ca-76a32da86c10",
   "metadata": {},
   "outputs": [],
   "source": []
  },
  {
   "cell_type": "code",
   "execution_count": 177,
   "id": "2ac93516-ba21-410d-98c5-45c786c94ec5",
   "metadata": {},
   "outputs": [],
   "source": [
    "#----------------------------------------------ML MODELS------------------------------------------------------------"
   ]
  },
  {
   "cell_type": "code",
   "execution_count": 178,
   "id": "1e7090df-2d45-4609-9a31-56ac2aec8d13",
   "metadata": {},
   "outputs": [],
   "source": [
    "from pyspark.ml import Pipeline\n",
    "from pyspark.ml.regression import RandomForestRegressor\n",
    "from pyspark.ml.feature import VectorAssembler\n",
    "from pyspark.ml.evaluation import RegressionEvaluator"
   ]
  },
  {
   "cell_type": "code",
   "execution_count": 179,
   "id": "ac53abc0-7ee6-492c-beae-c04e24b13da7",
   "metadata": {},
   "outputs": [
    {
     "name": "stdout",
     "output_type": "stream",
     "text": [
      "+--------------------+-------+---------+-------------------+--------+--------------+---------------+---------------+\n",
      "|                 _id|credits|firstname|institutionOfOrigin|lastname|regionLatitude|regionLongitude|     regionName|\n",
      "+--------------------+-------+---------+-------------------+--------+--------------+---------------+---------------+\n",
      "|{61d2b4d6eb71bb31...|    310|    Boris|       SUPINFO_CAEN|   Baldy|      48.87987|       0.171253|      Normandie|\n",
      "|{61d2b4d6eb71bb31...|    305|     John|       SUPINFO_LYON|     Doe|    45.1695797|      5.4502821|    Rhône-Alpes|\n",
      "|{61d2b4d6eb71bb31...|    322|   Julien|      SUPINFO_PARIS|  Balade|    48.8499198|      2.6370411|  Île-de-France|\n",
      "|{61d2b4d6eb71bb31...|    300|   Marine|      SUPINFO_LILLE|  Gascon|     49.847503|       2.763062|Hauts-de-France|\n",
      "|{61d2b4d6eb71bb31...|    210|   Martin|      SUPINFO_LILLE|  Bucher|     49.847503|       2.763062|Hauts-de-France|\n",
      "|{61d2b4d6eb71bb31...|    230|    Mehdi|      SUPINFO_PARIS| Haraoui|    48.8499198|      2.6370411|  Île-de-France|\n",
      "|{61d2b4d6eb71bb31...|    278|   Mylene|      SUPINFO_PARIS| Elsinky|    48.8499198|      2.6370411|  Île-de-France|\n",
      "|{61d2b4d6eb71bb31...|    300|  Natalie|      SUPINFO_PARIS|    Koeh|    48.8499198|      2.6370411|  Île-de-France|\n",
      "|{61d2b4d6eb71bb31...|    280|    Scott|       SUPINFO_NICE|   Tiger|    43.9466791|       7.179026|Alpes-Maritimes|\n",
      "+--------------------+-------+---------+-------------------+--------+--------------+---------------+---------------+\n",
      "\n"
     ]
    }
   ],
   "source": [
    "students_cleaned_loaded_df = spark.read.format('mongo').option('spark.mongodb.input.uri', 'mongodb://127.0.0.1:27017/Student.students_df').load()\n",
    "students_cleaned_loaded_df.show()"
   ]
  },
  {
   "cell_type": "code",
   "execution_count": 185,
   "id": "aacc966f-51a1-4d8a-8cf4-93f94e464863",
   "metadata": {},
   "outputs": [
    {
     "name": "stdout",
     "output_type": "stream",
     "text": [
      "+---------------+--------------+---------------+------------------+\n",
      "|     regionName|regionLatitude|regionLongitude|number_of_students|\n",
      "+---------------+--------------+---------------+------------------+\n",
      "|Alpes-Maritimes|    43.9466791|       7.179026|                 1|\n",
      "|      Normandie|      48.87987|       0.171253|                 1|\n",
      "|Hauts-de-France|     49.847503|       2.763062|                 2|\n",
      "|    Rhône-Alpes|    45.1695797|      5.4502821|                 1|\n",
      "|  Île-de-France|    48.8499198|      2.6370411|                 4|\n",
      "+---------------+--------------+---------------+------------------+\n",
      "\n"
     ]
    }
   ],
   "source": [
    "#school's growth forecasts\n",
    "#Number of students by regions\n",
    "students_by_regions = students_cleaned_loaded_df.select(concat('firstname',lit(\" \"),'lastname').alias('student_name'),'regionName','regionLatitude','regionLongitude','institutionOfOrigin')\n",
    "nb_students_by_regions = students_by_regions.groupBy('regionName','regionLatitude','regionLongitude').count().withColumnRenamed('count','number_of_students')\n",
    "nb_schools_by_regions = students_by_regions.groupBy('institutionOfOrigin').count().withColumnRenamed('count','number_of_schools')\n",
    "nb_students_by_regions.show()"
   ]
  },
  {
   "cell_type": "code",
   "execution_count": 186,
   "id": "136e0d4a-a8de-40ad-8095-21af67727a08",
   "metadata": {},
   "outputs": [
    {
     "name": "stderr",
     "output_type": "stream",
     "text": [
      "22/01/03 08:37:19 WARN DecisionTreeMetadata: DecisionTree reducing maxBins from 32 to 5 (= number of training instances)\n"
     ]
    },
    {
     "name": "stdout",
     "output_type": "stream",
     "text": [
      "+---------------+--------------+---------------+------------------+--------+----------+\n",
      "|     regionName|regionLatitude|regionLongitude|number_of_students|features|prediction|\n",
      "+---------------+--------------+---------------+------------------+--------+----------+\n",
      "|Alpes-Maritimes|    43.9466791|       7.179026|                 1|   [1.0]|       1.3|\n",
      "|      Normandie|      48.87987|       0.171253|                 1|   [1.0]|       1.3|\n",
      "|Hauts-de-France|     49.847503|       2.763062|                 2|   [2.0]|       2.7|\n",
      "|    Rhône-Alpes|    45.1695797|      5.4502821|                 1|   [1.0]|       1.3|\n",
      "|  Île-de-France|    48.8499198|      2.6370411|                 4|   [4.0]|       3.5|\n",
      "+---------------+--------------+---------------+------------------+--------+----------+\n",
      "\n"
     ]
    }
   ],
   "source": [
    "# Select features to parse into our model and then create the feature vector\n",
    "assembler = VectorAssembler(inputCols=['number_of_students'], outputCol='features')\n",
    "\n",
    "# Create the model\n",
    "model_reg = RandomForestRegressor(featuresCol='features', labelCol='number_of_students')\n",
    "\n",
    "\n",
    "# Chain the assembler with the model in a pipeline\n",
    "pipeline = Pipeline(stages=[assembler, model_reg])\n",
    "\n",
    "# Train the model\n",
    "model = pipeline.fit(nb_students_by_regions)\n",
    "\n",
    "# Make the prediction of number of students by regions\n",
    "pred_results = model.transform(nb_students_by_regions)\n",
    "pred_results.show(5)"
   ]
  },
  {
   "cell_type": "code",
   "execution_count": 188,
   "id": "cc8282d3-f7fe-4d4c-81aa-b86f9b2a1659",
   "metadata": {},
   "outputs": [
    {
     "name": "stdout",
     "output_type": "stream",
     "text": [
      "Root Mean Squared Error (RMSE) on test data = 0.449444 \n"
     ]
    }
   ],
   "source": [
    "# Evaluate the model\n",
    "# rmse should be less than 0.5 for the model to be useful\n",
    "evaluator = RegressionEvaluator(labelCol='number_of_students', predictionCol='prediction', metricName='rmse')\n",
    "rmse = evaluator.evaluate(pred_results)\n",
    "print('Root Mean Squared Error (RMSE) on test data = %g ' %rmse)"
   ]
  },
  {
   "cell_type": "code",
   "execution_count": 42,
   "id": "b59d15c8-1992-4e6f-96ff-cce71758cc0c",
   "metadata": {},
   "outputs": [
    {
     "data": {
      "text/plain": [
       "'\\n\\nCreate the prediction dataset\\n'"
      ]
     },
     "execution_count": 42,
     "metadata": {},
     "output_type": "execute_result"
    }
   ],
   "source": [
    "\"\"\"\n",
    "\n",
    "Create the prediction dataset\n",
    "\"\"\""
   ]
  },
  {
   "cell_type": "code",
   "execution_count": 189,
   "id": "17c279c6-35c7-441e-b9b5-1456b5a24b63",
   "metadata": {},
   "outputs": [
    {
     "name": "stdout",
     "output_type": "stream",
     "text": [
      "+---------------+------------------+----+------------------+\n",
      "|     regionName|number_of_students|Year|              RMSE|\n",
      "+---------------+------------------+----+------------------+\n",
      "|Alpes-Maritimes|                 1|2022|0.4494441010848847|\n",
      "|      Normandie|                 1|2022|0.4494441010848847|\n",
      "|Hauts-de-France|                 2|2022|0.4494441010848847|\n",
      "|    Rhône-Alpes|                 1|2022|0.4494441010848847|\n",
      "|  Île-de-France|                 4|2022|0.4494441010848847|\n",
      "+---------------+------------------+----+------------------+\n",
      "\n"
     ]
    }
   ],
   "source": [
    "# Create the prediction dataset\n",
    "df_pred_results = pred_results['regionName','number_of_students']\n",
    "\n",
    "# Rename the prediction field\n",
    "df_pred_results = df_pred_results.withColumnRenamed('prediction','Pred_number_of_students')\n",
    "\n",
    "# Add more columns to our prediction dataset for 2022\n",
    "df_pred_results = df_pred_results.withColumn('Year', lit(2022)).withColumn('RMSE', lit(rmse))\n",
    "\n",
    "# Preview df_pred_results\n",
    "df_pred_results.show(5)"
   ]
  },
  {
   "cell_type": "code",
   "execution_count": 184,
   "id": "5f7ddbc3-fb9e-4383-bb77-eb9b4ca12267",
   "metadata": {},
   "outputs": [],
   "source": [
    "# Load the prediction dataset into mongodb\n",
    "# Write df_pred_results\n",
    "df_pred_results.write.format('mongo').mode('overwrite').option('spark.mongodb.output.uri', 'mongodb://127.0.0.1:27017/Student.df_pred_results').save()"
   ]
  },
  {
   "cell_type": "code",
   "execution_count": null,
   "id": "405bd13d-715c-4a05-9c5f-0a4aff02ab7c",
   "metadata": {},
   "outputs": [],
   "source": []
  }
 ],
 "metadata": {
  "kernelspec": {
   "display_name": "Python 3 (ipykernel)",
   "language": "python",
   "name": "python3"
  },
  "language_info": {
   "codemirror_mode": {
    "name": "ipython",
    "version": 3
   },
   "file_extension": ".py",
   "mimetype": "text/x-python",
   "name": "python",
   "nbconvert_exporter": "python",
   "pygments_lexer": "ipython3",
   "version": "3.9.7"
  }
 },
 "nbformat": 4,
 "nbformat_minor": 5
}
